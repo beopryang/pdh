{
 "cells": [
  {
   "cell_type": "markdown",
   "id": "91c014b2-3cfa-44a9-8621-7836d55e520c",
   "metadata": {},
   "source": [
    "### 데이터가 무엇이든 상관없이 그 데이터를 분석할 수 있게 만드는 첫번째 단계는 데이터를 숫자배열로 변환하는 것이다."
   ]
  },
  {
   "cell_type": "markdown",
   "id": "06e4aa0c-be9c-4292-915f-642057f9b71a",
   "metadata": {},
   "source": [
    "# 파이썬의 데이터 타입 이해하기\n",
    "### C나 자바 같은 정적 타입 체계를 가진 언어는 모든 변수를 명시적으로 선언해야 하지만, 파이썬처럼 동적 타입 체계를 가진 언어는 타입을 지정하지 않아도 된다."
   ]
  },
  {
   "cell_type": "markdown",
   "id": "b5d202eb-f14f-41e0-9514-aa3d33d9c4ef",
   "metadata": {},
   "source": [
    "# 파이썬 정수는 정수 이상이다.\n",
    "### 파이썬에서 정수를 정의할대 X는 단순히 그대로의 정수를 의미하지 않는다. 실제로는 여러 값이 들어 있는 복합적인 C 구조체다.\n",
    "### C 정수는 근본적으로 정숫값을 나타내는 바이트를 포함하는 메모리 위치를 가리키는 레이블이고 파이썬 정수는 정숫값을 담고 있는 바이트를 포함한 모든 파이썬 객체 정보를 포함하는 메모리의 위치를 가리키는 포인터이다."
   ]
  }
 ],
 "metadata": {
  "kernelspec": {
   "display_name": "Python [conda env:base] *",
   "language": "python",
   "name": "conda-base-py"
  },
  "language_info": {
   "codemirror_mode": {
    "name": "ipython",
    "version": 3
   },
   "file_extension": ".py",
   "mimetype": "text/x-python",
   "name": "python",
   "nbconvert_exporter": "python",
   "pygments_lexer": "ipython3",
   "version": "3.12.7"
  }
 },
 "nbformat": 4,
 "nbformat_minor": 5
}
