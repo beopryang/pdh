{
 "cells": [
  {
   "cell_type": "markdown",
   "id": "91c014b2-3cfa-44a9-8621-7836d55e520c",
   "metadata": {},
   "source": [
    "### 데이터가 무엇이든 상관없이 그 데이터를 분석할 수 있게 만드는 첫번째 단계는 데이터를 숫자배열로 변환하는 것이다."
   ]
  },
  {
   "cell_type": "markdown",
   "id": "06e4aa0c-be9c-4292-915f-642057f9b71a",
   "metadata": {},
   "source": [
    "# 파이썬의 데이터 타입 이해하기\n",
    "### C나 자바 같은 정적 타입 체계를 가진 언어는 모든 변수를 명시적으로 선언해야 하지만, 파이썬처럼 동적 타입 체계를 가진 언어는 타입을 지정하지 않아도 된다."
   ]
  },
  {
   "cell_type": "markdown",
   "id": "b5d202eb-f14f-41e0-9514-aa3d33d9c4ef",
   "metadata": {},
   "source": [
    "# 파이썬 정수는 정수 이상이다.\n",
    "### 파이썬에서 정수를 정의할때 X는 단순히 그대로의 정수를 의미하지 않는다. 실제로는 여러 값이 들어 있는 복합적인 C 구조체다.\n",
    "### C 정수는 근본적으로 정숫값을 나타내는 바이트를 포함하는 메모리 위치를 가리키는 레이블이고 파이썬 정수는 정숫값을 담고 있는 바이트를 포함한 모든 파이썬 객체 정보를 포함하는 메모리의 위치를 가리키는 포인터이다."
   ]
  },
  {
   "cell_type": "markdown",
   "id": "9130549f-5ba7-42eb-be79-9aa6d90e9fad",
   "metadata": {},
   "source": [
    "# 파이썬 리스트는 리스트 이상이다.\n",
    "\n",
    "### 파이썬의 동적 타이핑 덕분에 서로 다른 데이터타입의 요소를 담는 리스트를 만들 수 있다."
   ]
  },
  {
   "cell_type": "markdown",
   "id": "60487942-91d2-4f66-ab3d-152af7b1dd2d",
   "metadata": {},
   "source": [
    "# 파이썬의 고정 타입 배열\n",
    "\n",
    "### 내장 array 모듈은 단일 타입의 조밀한 배열(dense array)를 만드는데 사용할 수 있다."
   ]
  },
  {
   "cell_type": "code",
   "execution_count": 3,
   "id": "69b55178-9572-4d5c-9c4b-746381c0b36c",
   "metadata": {},
   "outputs": [
    {
     "data": {
      "text/plain": [
       "array('i', [0, 1, 2, 3, 4, 5, 6, 7, 8, 9])"
      ]
     },
     "execution_count": 3,
     "metadata": {},
     "output_type": "execute_result"
    }
   ],
   "source": [
    "import array \n",
    "L = list(range(10))\n",
    "A = array.array('i', L)\n",
    "A"
   ]
  },
  {
   "cell_type": "markdown",
   "id": "b3b45c4b-3d06-4b28-8e02-6a3b980326a4",
   "metadata": {},
   "source": [
    "# 파이썬 리스트에서 배열 만들기"
   ]
  },
  {
   "cell_type": "code",
   "execution_count": 4,
   "id": "6536537c-dfc4-41c1-9743-6c5ca15ecb06",
   "metadata": {},
   "outputs": [],
   "source": [
    "import numpy as np"
   ]
  },
  {
   "cell_type": "code",
   "execution_count": null,
   "id": "71bbf8b7-12ba-4bed-b190-4deb3c153241",
   "metadata": {},
   "outputs": [],
   "source": [
    "# 정수배열:\n",
    "np.array([1, 4, 2, 5, 3])"
   ]
  },
  {
   "cell_type": "markdown",
   "id": "75fbc991-51e8-4902-9940-f6a51b2957f5",
   "metadata": {},
   "source": [
    "### 파이썬 리스트와 달리 Numpy 배열의 모든 요소가 같은 타입이어야 한다. 타입이 일치하지 않으면 Numpy는 가능한 상위타입을 취하게 된다."
   ]
  },
  {
   "cell_type": "code",
   "execution_count": 5,
   "id": "739b2d3f-42ba-4404-8fbe-5513920e6496",
   "metadata": {},
   "outputs": [
    {
     "data": {
      "text/plain": [
       "array([1., 2., 3., 4.], dtype=float32)"
      ]
     },
     "execution_count": 5,
     "metadata": {},
     "output_type": "execute_result"
    }
   ],
   "source": [
    "np.array([1, 2, 3, 4], dtype='float32')"
   ]
  },
  {
   "cell_type": "markdown",
   "id": "f61a7d9a-6755-4538-929b-3540e0336954",
   "metadata": {},
   "source": [
    "### 명시적으로 결과 배열의 테이터타입을 설정하려면 dtype 키워드를 사용한다."
   ]
  },
  {
   "cell_type": "code",
   "execution_count": 7,
   "id": "4fd13c57-3b85-4d20-87dd-58712b65e328",
   "metadata": {},
   "outputs": [
    {
     "data": {
      "text/plain": [
       "array([[2, 3, 4],\n",
       "       [4, 5, 6],\n",
       "       [6, 7, 8]])"
      ]
     },
     "execution_count": 7,
     "metadata": {},
     "output_type": "execute_result"
    }
   ],
   "source": [
    "#리스트를 중첩하면 다차원 배열이 됨\n",
    "np.array([range(i, i+3) for i in [2, 4, 6]])\n"
   ]
  },
  {
   "cell_type": "markdown",
   "id": "18014141-dd80-48af-b3fa-6ec2e82f45bb",
   "metadata": {},
   "source": [
    "# 처음부터 배열 만들기"
   ]
  },
  {
   "cell_type": "code",
   "execution_count": 8,
   "id": "bb97af9c-47d8-4bfc-a5ce-b8eec221196c",
   "metadata": {},
   "outputs": [
    {
     "data": {
      "text/plain": [
       "array([0, 0, 0, 0, 0, 0, 0, 0, 0, 0])"
      ]
     },
     "execution_count": 8,
     "metadata": {},
     "output_type": "execute_result"
    }
   ],
   "source": [
    "# 0으로 채운 길이 10의 정수 배열 만들기\n",
    "np.zeros(10, dtype=int)"
   ]
  },
  {
   "cell_type": "code",
   "execution_count": 10,
   "id": "4a324a30-8ec3-4c6f-810f-d0a6dbba979a",
   "metadata": {},
   "outputs": [
    {
     "data": {
      "text/plain": [
       "array([[1., 1., 1., 1., 1.],\n",
       "       [1., 1., 1., 1., 1.],\n",
       "       [1., 1., 1., 1., 1.]])"
      ]
     },
     "execution_count": 10,
     "metadata": {},
     "output_type": "execute_result"
    }
   ],
   "source": [
    "# 1로 채운 3*5 부동 소수점 배열 만들기\n",
    "np.ones((3, 5), dtype=float)"
   ]
  },
  {
   "cell_type": "code",
   "execution_count": 11,
   "id": "83bbd21f-cb10-4f91-a3c5-b59e6afd2cd7",
   "metadata": {},
   "outputs": [
    {
     "data": {
      "text/plain": [
       "array([[3.14, 3.14, 3.14, 3.14, 3.14],\n",
       "       [3.14, 3.14, 3.14, 3.14, 3.14],\n",
       "       [3.14, 3.14, 3.14, 3.14, 3.14]])"
      ]
     },
     "execution_count": 11,
     "metadata": {},
     "output_type": "execute_result"
    }
   ],
   "source": [
    "# 3.14로 채운 3*5 배열 만들기\n",
    "np.full((3,5), 3.14)"
   ]
  },
  {
   "cell_type": "code",
   "execution_count": 13,
   "id": "8bbd8caa-d1eb-4971-a7ac-5fd86ed4e202",
   "metadata": {},
   "outputs": [
    {
     "data": {
      "text/plain": [
       "array([ 0,  2,  4,  6,  8, 10, 12, 14, 16, 18])"
      ]
     },
     "execution_count": 13,
     "metadata": {},
     "output_type": "execute_result"
    }
   ],
   "source": [
    "# 선형 수열로 채운 배열 만들기\n",
    "# 0에서 시작해 2씩 더해 20까지 채움\n",
    "# 내장함수인 range()와 유사함\n",
    "np.arange(0, 20, 2)"
   ]
  },
  {
   "cell_type": "code",
   "execution_count": 14,
   "id": "53461829-9322-43d4-8d18-58904964ed7a",
   "metadata": {},
   "outputs": [
    {
     "data": {
      "text/plain": [
       "array([0.  , 0.25, 0.5 , 0.75, 1.  ])"
      ]
     },
     "execution_count": 14,
     "metadata": {},
     "output_type": "execute_result"
    }
   ],
   "source": [
    "# 0과 1 사이에 일정한 간격을 가진 다섯 개의 값으로 채운 배열 만들기\n",
    "np.linspace(0, 1, 5)"
   ]
  },
  {
   "cell_type": "code",
   "execution_count": 15,
   "id": "6cb36a02-a3da-483f-a14e-95c950785ddd",
   "metadata": {},
   "outputs": [
    {
     "data": {
      "text/plain": [
       "array([[0.29764337, 0.90911418, 0.87371714],\n",
       "       [0.23200908, 0.7013303 , 0.24334878],\n",
       "       [0.04177054, 0.90215709, 0.9946502 ]])"
      ]
     },
     "execution_count": 15,
     "metadata": {},
     "output_type": "execute_result"
    }
   ],
   "source": [
    "# 균등하게 분포된 3*3배열 만들기\n",
    "# 0과 1 사이의 난수로 채움\n",
    "np.random.random ((3,3))"
   ]
  },
  {
   "cell_type": "code",
   "execution_count": 17,
   "id": "a8fa2f01-27f7-49b7-aec7-c326dd7f7bfc",
   "metadata": {},
   "outputs": [
    {
     "data": {
      "text/plain": [
       "array([[-1.43082759,  1.36535062,  0.27171964],\n",
       "       [ 0.11792804,  1.52296018,  0.69061965],\n",
       "       [-0.57324952,  0.67201088,  0.05097716]])"
      ]
     },
     "execution_count": 17,
     "metadata": {},
     "output_type": "execute_result"
    }
   ],
   "source": [
    "# 정규 분포(평균=0, 표준 편차=1)의 난수로 채운 3*3 배열 만들기\n",
    "np.random.normal(0, 1, (3, 3))"
   ]
  },
  {
   "cell_type": "code",
   "execution_count": 18,
   "id": "27009104-eb0c-4d32-98b3-d0b5049b11d9",
   "metadata": {},
   "outputs": [
    {
     "data": {
      "text/plain": [
       "array([[5, 2, 7],\n",
       "       [1, 8, 8],\n",
       "       [9, 0, 0]])"
      ]
     },
     "execution_count": 18,
     "metadata": {},
     "output_type": "execute_result"
    }
   ],
   "source": [
    "# [0, 10 ] 구간의 임의의 정수로 채운 3*3배열 만들기\n",
    "np.random.randint(0, 10, (3, 3))             "
   ]
  },
  {
   "cell_type": "code",
   "execution_count": 19,
   "id": "199dd3dd-4dfc-4db1-a592-802c5481f076",
   "metadata": {},
   "outputs": [
    {
     "data": {
      "text/plain": [
       "array([[1., 0., 0.],\n",
       "       [0., 1., 0.],\n",
       "       [0., 0., 1.]])"
      ]
     },
     "execution_count": 19,
     "metadata": {},
     "output_type": "execute_result"
    }
   ],
   "source": [
    "#3*3 단위 행렬 만들기\n",
    "np.eye(3)"
   ]
  },
  {
   "cell_type": "code",
   "execution_count": 20,
   "id": "95dfb1de-5c63-4a38-8864-1192bc124f4a",
   "metadata": {},
   "outputs": [
    {
     "data": {
      "text/plain": [
       "array([1., 1., 1.])"
      ]
     },
     "execution_count": 20,
     "metadata": {},
     "output_type": "execute_result"
    }
   ],
   "source": [
    "# 세 개의 정수를 가지는 초기화되지 않은 배열 만들기\n",
    "# 값은 해당 메모리 위치에 이미 존재하고 있는 값으로 채움\n",
    "np.empty(3)"
   ]
  },
  {
   "cell_type": "markdown",
   "id": "683dfa6c-8afc-48aa-9150-882ce398ca3b",
   "metadata": {},
   "source": [
    "# Numpy 배열의 기초"
   ]
  },
  {
   "cell_type": "markdown",
   "id": "0a261adc-a425-4600-8171-114e5b8df924",
   "metadata": {},
   "source": [
    "## Numpy 배열 속성 지정"
   ]
  },
  {
   "cell_type": "code",
   "execution_count": 2,
   "id": "85d10b37-a858-4f8c-949b-05d40a8477d1",
   "metadata": {},
   "outputs": [],
   "source": [
    "import numpy as np\n",
    "np.random.seed(0) #재현 가능성을 위한 값\n",
    "\n",
    "x1 = np.random.randint(10, size=6) # 1차원 배열"
   ]
  },
  {
   "cell_type": "code",
   "execution_count": 4,
   "id": "b63b023e-3f75-4e90-bb04-0a5246ced478",
   "metadata": {},
   "outputs": [],
   "source": [
    "x2 = np.random.randint(10, size=(3, 4)) #2차원 배열\n",
    "x3 = np.random.randint(10, size=(3, 4, 5)) # 3차원 배열"
   ]
  },
  {
   "cell_type": "markdown",
   "id": "14f01d56-398d-46ad-aa0f-7a5af794d043",
   "metadata": {},
   "source": [
    "### 각 배열은 속성으로 ndim(차원의 개수), shape(각 차원의 크기), size(전체 배열의 크기), dtype(각 요소의 크기)을 가지고 있다."
   ]
  },
  {
   "cell_type": "code",
   "execution_count": 5,
   "id": "87da559a-0aaa-40b9-baa3-f7b83c86bd36",
   "metadata": {},
   "outputs": [
    {
     "name": "stdout",
     "output_type": "stream",
     "text": [
      "x3 ndim: 3\n",
      "x3 shape: (3, 4, 5)\n",
      "x3 size: 60\n",
      "dtype: int32\n"
     ]
    }
   ],
   "source": [
    "print(\"x3 ndim:\", x3.ndim)\n",
    "print(\"x3 shape:\", x3.shape)\n",
    "print(\"x3 size:\", x3.size)\n",
    "print(\"dtype:\", x3.dtype)"
   ]
  },
  {
   "cell_type": "markdown",
   "id": "f261ef44-ecb0-425f-b5fd-085697170bb5",
   "metadata": {},
   "source": [
    "## 배열 인덱싱: 단일 요소에 접근하기"
   ]
  },
  {
   "cell_type": "code",
   "execution_count": 6,
   "id": "917e47c1-ac73-4d04-9033-668b0d47b2aa",
   "metadata": {},
   "outputs": [
    {
     "data": {
      "text/plain": [
       "array([5, 0, 3, 3, 7, 9])"
      ]
     },
     "execution_count": 6,
     "metadata": {},
     "output_type": "execute_result"
    }
   ],
   "source": [
    "x1"
   ]
  },
  {
   "cell_type": "code",
   "execution_count": 7,
   "id": "3f7cb65b-881f-436c-9be9-ae598e4f5b4e",
   "metadata": {},
   "outputs": [
    {
     "data": {
      "text/plain": [
       "5"
      ]
     },
     "execution_count": 7,
     "metadata": {},
     "output_type": "execute_result"
    }
   ],
   "source": [
    "x1[0]"
   ]
  },
  {
   "cell_type": "code",
   "execution_count": 8,
   "id": "71fa3a85-6d66-4329-82e8-f02bc90b830e",
   "metadata": {},
   "outputs": [
    {
     "data": {
      "text/plain": [
       "7"
      ]
     },
     "execution_count": 8,
     "metadata": {},
     "output_type": "execute_result"
    }
   ],
   "source": [
    "x1[4]"
   ]
  },
  {
   "cell_type": "code",
   "execution_count": 9,
   "id": "388396ca-1850-45cb-959f-110aafce859c",
   "metadata": {},
   "outputs": [
    {
     "data": {
      "text/plain": [
       "9"
      ]
     },
     "execution_count": 9,
     "metadata": {},
     "output_type": "execute_result"
    }
   ],
   "source": [
    "x1[-1]"
   ]
  },
  {
   "cell_type": "markdown",
   "id": "610f2d8d-795b-4964-b5cb-c4efac95d90e",
   "metadata": {},
   "source": [
    "x2"
   ]
  },
  {
   "cell_type": "code",
   "execution_count": 11,
   "id": "f4086cdc-6c20-4466-a75f-5eaf677b2ddc",
   "metadata": {},
   "outputs": [
    {
     "data": {
      "text/plain": [
       "3"
      ]
     },
     "execution_count": 11,
     "metadata": {},
     "output_type": "execute_result"
    }
   ],
   "source": [
    "x2[0,0]"
   ]
  },
  {
   "cell_type": "code",
   "execution_count": 12,
   "id": "6acab71d-b4dd-4b7a-82f5-ab9b45164a7e",
   "metadata": {},
   "outputs": [
    {
     "data": {
      "text/plain": [
       "1"
      ]
     },
     "execution_count": 12,
     "metadata": {},
     "output_type": "execute_result"
    }
   ],
   "source": [
    "x2[2,0]"
   ]
  },
  {
   "cell_type": "code",
   "execution_count": 13,
   "id": "94b4bf9c-47f1-4595-b5e2-06bcd9b38f6a",
   "metadata": {},
   "outputs": [
    {
     "data": {
      "text/plain": [
       "array([[12,  5,  2,  4],\n",
       "       [ 7,  6,  8,  8],\n",
       "       [ 1,  6,  7,  7]])"
      ]
     },
     "execution_count": 13,
     "metadata": {},
     "output_type": "execute_result"
    }
   ],
   "source": [
    "# 인덱싱을 이용한 값 변경\n",
    "x2[0, 0] = 12\n",
    "x2"
   ]
  },
  {
   "cell_type": "markdown",
   "id": "762659ce-d0fa-45fb-b6b7-00b37cde0b69",
   "metadata": {},
   "source": [
    "## 배열 슬라이싱: 하위 배열에 접근하기"
   ]
  },
  {
   "cell_type": "markdown",
   "id": "444f7cf5-88e3-4b83-8ce5-b57a973dd736",
   "metadata": {},
   "source": [
    "## 1차원 하위 배열"
   ]
  },
  {
   "cell_type": "code",
   "execution_count": 14,
   "id": "1aaedd98-09f6-478f-b022-31ca83c5e907",
   "metadata": {},
   "outputs": [
    {
     "data": {
      "text/plain": [
       "array([0, 1, 2, 3, 4, 5, 6, 7, 8, 9])"
      ]
     },
     "execution_count": 14,
     "metadata": {},
     "output_type": "execute_result"
    }
   ],
   "source": [
    "x = np.arange(10) \n",
    "x"
   ]
  },
  {
   "cell_type": "code",
   "execution_count": 15,
   "id": "4cac03d7-72cd-4682-a9c7-9343b99da047",
   "metadata": {},
   "outputs": [
    {
     "data": {
      "text/plain": [
       "array([0, 1, 2, 3, 4])"
      ]
     },
     "execution_count": 15,
     "metadata": {},
     "output_type": "execute_result"
    }
   ],
   "source": [
    "x[:5] #첫 다섯개 요소"
   ]
  },
  {
   "cell_type": "code",
   "execution_count": 16,
   "id": "556b8333-b6b0-4a3d-8280-2752b136e855",
   "metadata": {},
   "outputs": [
    {
     "data": {
      "text/plain": [
       "array([5, 6, 7, 8, 9])"
      ]
     },
     "execution_count": 16,
     "metadata": {},
     "output_type": "execute_result"
    }
   ],
   "source": [
    "x[5:] #인덱스 5 다음 요소들"
   ]
  },
  {
   "cell_type": "code",
   "execution_count": 17,
   "id": "8742e826-d4c5-4047-87f3-6893154c3a30",
   "metadata": {},
   "outputs": [
    {
     "data": {
      "text/plain": [
       "array([4, 5, 6])"
      ]
     },
     "execution_count": 17,
     "metadata": {},
     "output_type": "execute_result"
    }
   ],
   "source": [
    "x[4:7] #중간 하위 배열"
   ]
  },
  {
   "cell_type": "code",
   "execution_count": 20,
   "id": "57a68635-da35-4ec0-a2ce-f9f1b25177a5",
   "metadata": {},
   "outputs": [
    {
     "data": {
      "text/plain": [
       "array([0, 2, 4, 6, 8])"
      ]
     },
     "execution_count": 20,
     "metadata": {},
     "output_type": "execute_result"
    }
   ],
   "source": [
    "x[::2] #하나 걸러 하나씩의 요소로 구성된 배열"
   ]
  },
  {
   "cell_type": "code",
   "execution_count": 21,
   "id": "a1ccd7e9-6d8b-4ead-ae86-ec9464a0f6dd",
   "metadata": {},
   "outputs": [
    {
     "data": {
      "text/plain": [
       "array([1, 3, 5, 7, 9])"
      ]
     },
     "execution_count": 21,
     "metadata": {},
     "output_type": "execute_result"
    }
   ],
   "source": [
    "x[1::2] #인덱스 1에서 시작해 하나 걸러 하나씩 요소로 구성된 배열"
   ]
  },
  {
   "cell_type": "code",
   "execution_count": 22,
   "id": "38745f0a-9e4b-4aec-b684-bcf8fb52a81f",
   "metadata": {},
   "outputs": [
    {
     "data": {
      "text/plain": [
       "array([9, 8, 7, 6, 5, 4, 3, 2, 1, 0])"
      ]
     },
     "execution_count": 22,
     "metadata": {},
     "output_type": "execute_result"
    }
   ],
   "source": [
    "x[::-1] #모든 요소를 거꾸로 나열"
   ]
  },
  {
   "cell_type": "code",
   "execution_count": 23,
   "id": "4591c3a7-d7d1-4582-a73d-ca45ee94b681",
   "metadata": {},
   "outputs": [
    {
     "data": {
      "text/plain": [
       "array([5, 3, 1])"
      ]
     },
     "execution_count": 23,
     "metadata": {},
     "output_type": "execute_result"
    }
   ],
   "source": [
    "x[5::-2] #인덱스 5부터 하나 걸러 하나씩 요소를 거꾸로 나열"
   ]
  },
  {
   "cell_type": "markdown",
   "id": "d0d0c8bb-5d42-4bc4-baec-222dc4d89d27",
   "metadata": {},
   "source": [
    "## 다차원 하위 배열"
   ]
  },
  {
   "cell_type": "code",
   "execution_count": 25,
   "id": "16c0bc74-20fb-417f-bdfe-d841444d72de",
   "metadata": {},
   "outputs": [
    {
     "data": {
      "text/plain": [
       "array([[12,  5,  2,  4],\n",
       "       [ 7,  6,  8,  8],\n",
       "       [ 1,  6,  7,  7]])"
      ]
     },
     "execution_count": 25,
     "metadata": {},
     "output_type": "execute_result"
    }
   ],
   "source": [
    "x2"
   ]
  },
  {
   "cell_type": "code",
   "execution_count": 24,
   "id": "52ff9ef6-f047-45f5-9870-f61f76a3f0e7",
   "metadata": {},
   "outputs": [
    {
     "data": {
      "text/plain": [
       "array([[12,  5,  2],\n",
       "       [ 7,  6,  8]])"
      ]
     },
     "execution_count": 24,
     "metadata": {},
     "output_type": "execute_result"
    }
   ],
   "source": [
    "x2[:2, :3] #두 개의 행, 세 개의 열"
   ]
  },
  {
   "cell_type": "code",
   "execution_count": 26,
   "id": "4bd59b65-9b7d-4e5e-b6d7-429857a34274",
   "metadata": {},
   "outputs": [
    {
     "data": {
      "text/plain": [
       "array([[12,  2],\n",
       "       [ 7,  8],\n",
       "       [ 1,  7]])"
      ]
     },
     "execution_count": 26,
     "metadata": {},
     "output_type": "execute_result"
    }
   ],
   "source": [
    "x2[:3, ::2] #모든 행, 한 열 걸러 하나씩"
   ]
  },
  {
   "cell_type": "code",
   "execution_count": 27,
   "id": "10f45643-f5e2-4f1d-a247-c6a906953891",
   "metadata": {},
   "outputs": [
    {
     "data": {
      "text/plain": [
       "array([[ 7,  7,  6,  1],\n",
       "       [ 8,  8,  6,  7],\n",
       "       [ 4,  2,  5, 12]])"
      ]
     },
     "execution_count": 27,
     "metadata": {},
     "output_type": "execute_result"
    }
   ],
   "source": [
    "x2[::-1, ::-1] #하위 배열 차원을 역으로 변환"
   ]
  },
  {
   "cell_type": "code",
   "execution_count": 28,
   "id": "3a9dc1c5-3bb9-4b02-b5cc-a29a3069ecea",
   "metadata": {},
   "outputs": [
    {
     "name": "stdout",
     "output_type": "stream",
     "text": [
      "[12  7  1]\n"
     ]
    }
   ],
   "source": [
    "print(x2[:, 0]) # x2의 첫번째 열"
   ]
  },
  {
   "cell_type": "code",
   "execution_count": 29,
   "id": "79aea6f8-2b46-4dbf-9933-456fe2053e09",
   "metadata": {},
   "outputs": [
    {
     "name": "stdout",
     "output_type": "stream",
     "text": [
      "[12  5  2  4]\n"
     ]
    }
   ],
   "source": [
    "print(x2[0, :]) # x2의 첫번째 행"
   ]
  },
  {
   "cell_type": "code",
   "execution_count": 30,
   "id": "556c06b4-c6df-40c9-9c8c-990c34a1cec4",
   "metadata": {},
   "outputs": [
    {
     "name": "stdout",
     "output_type": "stream",
     "text": [
      "[12  5  2  4]\n"
     ]
    }
   ],
   "source": [
    "print(x2[0]) # 더 간결한 구문을 위해 빈 슬라이스를 생략"
   ]
  },
  {
   "cell_type": "markdown",
   "id": "79434461-dcbf-43e4-8ba8-cfbcdfc44cf4",
   "metadata": {},
   "source": [
    "## 사본이 아닌 뷰로서의 하위 배열\n",
    "\n",
    "### 배열 슬라이스는 배열 데이터의 사본이 아니라 뷰를 반환한다.(리스트에서 슬라이스는 사본이다.)\n",
    "\n",
    "### 큰 데이터세트를 다룰때 기반 데이터 버퍼를 복사하지 않아도 이 데이터의 일부에 접근하고 처리할 수 있다."
   ]
  },
  {
   "cell_type": "markdown",
   "id": "8edb2e6a-72bb-4c3d-8ee9-b35a4f9ebc70",
   "metadata": {},
   "source": [
    "## 배열의 사본 만들기"
   ]
  },
  {
   "cell_type": "code",
   "execution_count": 31,
   "id": "132c8266-620b-4c63-8c3a-f31df4ede3f2",
   "metadata": {},
   "outputs": [
    {
     "name": "stdout",
     "output_type": "stream",
     "text": [
      "[[12  5]\n",
      " [ 7  6]]\n"
     ]
    }
   ],
   "source": [
    "x2_sub_copy = x2[:2, :2].copy()\n",
    "print(x2_sub_copy)"
   ]
  },
  {
   "cell_type": "markdown",
   "id": "fd1eaa64-c0ec-48cc-a4ff-e114bc48306f",
   "metadata": {},
   "source": [
    "## 배열 재구조화"
   ]
  },
  {
   "cell_type": "code",
   "execution_count": 32,
   "id": "afd5553f-4cf9-43ac-8c35-59d96c45fbec",
   "metadata": {},
   "outputs": [
    {
     "name": "stdout",
     "output_type": "stream",
     "text": [
      "[[1 2 3]\n",
      " [4 5 6]\n",
      " [7 8 9]]\n"
     ]
    }
   ],
   "source": [
    "grid = np.arange(1, 10).reshape((3,3))\n",
    "print(grid)"
   ]
  },
  {
   "cell_type": "code",
   "execution_count": 33,
   "id": "287a0027-4166-453c-bc82-db78a2d3ff61",
   "metadata": {},
   "outputs": [
    {
     "data": {
      "text/plain": [
       "array([[1, 2, 3]])"
      ]
     },
     "execution_count": 33,
     "metadata": {},
     "output_type": "execute_result"
    }
   ],
   "source": [
    "x = np.array([1, 2, 3])\n",
    "# reshape을 이용한 행 벡터\n",
    "x.reshape((1,3))"
   ]
  },
  {
   "cell_type": "code",
   "execution_count": 34,
   "id": "8745afcf-119a-44e2-9ec7-5b790f5ba075",
   "metadata": {},
   "outputs": [
    {
     "data": {
      "text/plain": [
       "array([[1, 2, 3]])"
      ]
     },
     "execution_count": 34,
     "metadata": {},
     "output_type": "execute_result"
    }
   ],
   "source": [
    "#newaxis를 이용한 행 벡터\n",
    "x[np.newaxis, :]"
   ]
  },
  {
   "cell_type": "code",
   "execution_count": 35,
   "id": "114a91ac-43e2-473d-b894-56f5cd3f478f",
   "metadata": {},
   "outputs": [
    {
     "data": {
      "text/plain": [
       "array([[1],\n",
       "       [2],\n",
       "       [3]])"
      ]
     },
     "execution_count": 35,
     "metadata": {},
     "output_type": "execute_result"
    }
   ],
   "source": [
    "# reshape을 이용한 열 벡터\n",
    "x.reshape((3,1))"
   ]
  },
  {
   "cell_type": "code",
   "execution_count": 36,
   "id": "415ea4af-bb09-431b-989c-bbc16dfdd3b4",
   "metadata": {},
   "outputs": [
    {
     "data": {
      "text/plain": [
       "array([[1],\n",
       "       [2],\n",
       "       [3]])"
      ]
     },
     "execution_count": 36,
     "metadata": {},
     "output_type": "execute_result"
    }
   ],
   "source": [
    "# newaxis를 이용한 열 벡터\n",
    "x[:, np.newaxis]"
   ]
  },
  {
   "cell_type": "markdown",
   "id": "6ecefecd-ac6d-4d71-a5f8-68ba7e89e11c",
   "metadata": {},
   "source": [
    "# 배열 연결 및 분할"
   ]
  },
  {
   "cell_type": "markdown",
   "id": "2dd1d909-e999-4b59-a2e7-4eca825473e2",
   "metadata": {},
   "source": [
    "## 배열 연결"
   ]
  },
  {
   "cell_type": "code",
   "execution_count": 37,
   "id": "507b6de4-df96-445f-be9d-4c2e5dc14045",
   "metadata": {},
   "outputs": [
    {
     "data": {
      "text/plain": [
       "array([1, 2, 3, 3, 2, 1])"
      ]
     },
     "execution_count": 37,
     "metadata": {},
     "output_type": "execute_result"
    }
   ],
   "source": [
    "x = np.array([1, 2, 3])\n",
    "y = np.array([3, 2, 1])\n",
    "np.concatenate([x,y])"
   ]
  },
  {
   "cell_type": "code",
   "execution_count": 39,
   "id": "4fa537d1-8554-4b72-8620-0853b9351214",
   "metadata": {},
   "outputs": [
    {
     "name": "stdout",
     "output_type": "stream",
     "text": [
      "[ 1  2  3  3  2  1 99 99 99]\n"
     ]
    }
   ],
   "source": [
    "z = [99, 99, 99]\n",
    "print(np.concatenate([x,y,z]))"
   ]
  },
  {
   "cell_type": "code",
   "execution_count": 42,
   "id": "859e73b8-b7eb-4d8d-8229-dea056be2d05",
   "metadata": {},
   "outputs": [
    {
     "data": {
      "text/plain": [
       "array([[1, 2, 3],\n",
       "       [4, 5, 6],\n",
       "       [1, 2, 3],\n",
       "       [4, 5, 6]])"
      ]
     },
     "execution_count": 42,
     "metadata": {},
     "output_type": "execute_result"
    }
   ],
   "source": [
    "grid = np.array([[1, 2, 3],\n",
    "                 [4, 5, 6]])\n",
    "\n",
    "# 첫 번째 축을 따라 연결\n",
    "np.concatenate([grid, grid])"
   ]
  },
  {
   "cell_type": "code",
   "execution_count": 43,
   "id": "d323120a-b5ae-4862-813a-b66e80b3311d",
   "metadata": {},
   "outputs": [
    {
     "data": {
      "text/plain": [
       "array([[1, 2, 3, 1, 2, 3],\n",
       "       [4, 5, 6, 4, 5, 6]])"
      ]
     },
     "execution_count": 43,
     "metadata": {},
     "output_type": "execute_result"
    }
   ],
   "source": [
    "# 두번째 축을 따라 연결(0부터 시작하는 인덱스 방식)\n",
    "np.concatenate([grid, grid], axis=1)"
   ]
  },
  {
   "cell_type": "code",
   "execution_count": 46,
   "id": "07790d8c-8cc9-485a-bb0b-97925e535f4c",
   "metadata": {},
   "outputs": [
    {
     "data": {
      "text/plain": [
       "array([[1, 2, 3],\n",
       "       [9, 8, 7],\n",
       "       [6, 5, 4]])"
      ]
     },
     "execution_count": 46,
     "metadata": {},
     "output_type": "execute_result"
    }
   ],
   "source": [
    "x = np.array([1, 2, 3])\n",
    "grid = np.array([[9, 8, 7],\n",
    "                [6, 5, 4]])\n",
    "# 배열을 수직으로 쌓음\n",
    "np.vstack([x, grid])"
   ]
  },
  {
   "cell_type": "code",
   "execution_count": 47,
   "id": "df648878-cf69-4f50-87a0-f6b1ff8f0ae6",
   "metadata": {},
   "outputs": [
    {
     "data": {
      "text/plain": [
       "array([[ 9,  8,  7, 99],\n",
       "       [ 6,  5,  4, 99]])"
      ]
     },
     "execution_count": 47,
     "metadata": {},
     "output_type": "execute_result"
    }
   ],
   "source": [
    "# 배열을 수평으로 쌓음\n",
    "y = np.array([[99],\n",
    "              [99]])\n",
    "np.hstack([grid, y])"
   ]
  },
  {
   "cell_type": "markdown",
   "id": "132c8e5e-947e-4695-a09d-3c79e8819542",
   "metadata": {},
   "source": [
    "## 배열 분할"
   ]
  },
  {
   "cell_type": "code",
   "execution_count": 48,
   "id": "db919fbe-e42e-4a82-9bab-d237ac5d17fc",
   "metadata": {},
   "outputs": [
    {
     "name": "stdout",
     "output_type": "stream",
     "text": [
      "[1 2 3] [99 99] [3 2 1]\n"
     ]
    }
   ],
   "source": [
    "x = [1, 2, 3, 99, 99, 3, 2, 1]\n",
    "x1, x2, x3 = np.split(x, [3,5])\n",
    "print(x1, x2, x3)"
   ]
  },
  {
   "cell_type": "code",
   "execution_count": 49,
   "id": "f651e80f-f580-4753-9c1a-896cc9fac851",
   "metadata": {},
   "outputs": [
    {
     "data": {
      "text/plain": [
       "array([[ 0,  1,  2,  3],\n",
       "       [ 4,  5,  6,  7],\n",
       "       [ 8,  9, 10, 11],\n",
       "       [12, 13, 14, 15]])"
      ]
     },
     "execution_count": 49,
     "metadata": {},
     "output_type": "execute_result"
    }
   ],
   "source": [
    "grid = np.arange(16).reshape((4,4))\n",
    "grid"
   ]
  },
  {
   "cell_type": "code",
   "execution_count": 50,
   "id": "12ebc650-a8ed-4324-868a-ce98a197015b",
   "metadata": {},
   "outputs": [
    {
     "name": "stdout",
     "output_type": "stream",
     "text": [
      "[[0 1 2 3]\n",
      " [4 5 6 7]]\n",
      "[[ 8  9 10 11]\n",
      " [12 13 14 15]]\n"
     ]
    }
   ],
   "source": [
    "upper, lower = np.vsplit(grid, [2])\n",
    "print(upper)\n",
    "print(lower)"
   ]
  },
  {
   "cell_type": "code",
   "execution_count": 51,
   "id": "519fa471-48d8-42e8-b6bc-d19f4b68eef3",
   "metadata": {},
   "outputs": [
    {
     "name": "stdout",
     "output_type": "stream",
     "text": [
      "[[ 0  1]\n",
      " [ 4  5]\n",
      " [ 8  9]\n",
      " [12 13]]\n",
      "[[ 2  3]\n",
      " [ 6  7]\n",
      " [10 11]\n",
      " [14 15]]\n"
     ]
    }
   ],
   "source": [
    "left, right = np.hsplit(grid, [2])\n",
    "print(left)\n",
    "print(right)"
   ]
  },
  {
   "cell_type": "markdown",
   "id": "fa85c256-ed2b-4338-9cc6-0a1c92da9589",
   "metadata": {},
   "source": [
    "# 팬시 인덱싱\n"
   ]
  },
  {
   "cell_type": "code",
   "execution_count": 1,
   "id": "e5b8ce9b-ccb8-4f7b-aa8d-69a5aad2bc2f",
   "metadata": {},
   "outputs": [
    {
     "name": "stdout",
     "output_type": "stream",
     "text": [
      "[51 92 14 71 60 20 82 86 74 74]\n"
     ]
    }
   ],
   "source": [
    "import numpy as np\n",
    "rand = np.random.RandomState(42)\n",
    "x = rand.randint(100, size=10)\n",
    "print(x)\n"
   ]
  },
  {
   "cell_type": "code",
   "execution_count": 2,
   "id": "f73a7c9c-bdce-4de1-9ae6-34df83355191",
   "metadata": {},
   "outputs": [
    {
     "data": {
      "text/plain": [
       "[71, 86, 14]"
      ]
     },
     "execution_count": 2,
     "metadata": {},
     "output_type": "execute_result"
    }
   ],
   "source": [
    "[x[3], x[7], x[2]]"
   ]
  },
  {
   "cell_type": "code",
   "execution_count": 4,
   "id": "dd58df99-aa84-440f-b5bf-94a20fcb145e",
   "metadata": {},
   "outputs": [
    {
     "data": {
      "text/plain": [
       "array([[71, 86],\n",
       "       [60, 20]])"
      ]
     },
     "execution_count": 4,
     "metadata": {},
     "output_type": "execute_result"
    }
   ],
   "source": [
    "ind = np.array([[3, 7],\n",
    "                [4, 5]])\n",
    "x[ind]\n",
    "\n",
    "# 팬시 인덱싱을 이용하면 결과의 형상이 인덱싱 대상 배열의 형상이 아니라 인덱스 배열의 형상을 반영한다."
   ]
  },
  {
   "cell_type": "code",
   "execution_count": 8,
   "id": "6132c082-e6c9-4bd7-9d3b-8c8fff1b89bc",
   "metadata": {},
   "outputs": [
    {
     "data": {
      "text/plain": [
       "array([[ 0,  1,  2,  3],\n",
       "       [ 4,  5,  6,  7],\n",
       "       [ 8,  9, 10, 11]])"
      ]
     },
     "execution_count": 8,
     "metadata": {},
     "output_type": "execute_result"
    }
   ],
   "source": [
    "import numpy as np\n",
    "\n",
    "X = np.arange(12).reshape((3, 4))\n",
    "X"
   ]
  },
  {
   "cell_type": "code",
   "execution_count": 9,
   "id": "148c8940-cd5c-41ed-afaf-9e3bb4194f13",
   "metadata": {},
   "outputs": [
    {
     "data": {
      "text/plain": [
       "array([ 2,  5, 11])"
      ]
     },
     "execution_count": 9,
     "metadata": {},
     "output_type": "execute_result"
    }
   ],
   "source": [
    "row = np.array([0, 1, 2])\n",
    "col = np.array([2, 1, 3])\n",
    "X[row, col]"
   ]
  },
  {
   "cell_type": "markdown",
   "id": "b47ed43e-213b-4811-b3fe-5e377fb544b9",
   "metadata": {},
   "source": [
    "### 결과의 첫 번째 값은 X[0, 2], 두번째 값은 X[1, 1], 세번째 값은 x[2, 3] 이다. "
   ]
  },
  {
   "cell_type": "markdown",
   "id": "a23e1026-5b6d-418b-835d-a42596eb921a",
   "metadata": {},
   "source": [
    "# 배열정렬"
   ]
  },
  {
   "cell_type": "code",
   "execution_count": 10,
   "id": "3679a942-59b2-48f9-afcc-728c570252bc",
   "metadata": {},
   "outputs": [
    {
     "data": {
      "text/plain": [
       "[1, 1, 2, 3, 4, 5, 6, 9]"
      ]
     },
     "execution_count": 10,
     "metadata": {},
     "output_type": "execute_result"
    }
   ],
   "source": [
    "L = [3, 1, 4, 1, 5, 9, 2, 6]\n",
    "sorted(L) # 정렬된 복사본 반환 "
   ]
  },
  {
   "cell_type": "code",
   "execution_count": 11,
   "id": "9e020cd3-f56c-459c-a5ac-45b1145faa45",
   "metadata": {},
   "outputs": [],
   "source": [
    "L.sort() # 리스트 정렬을 실행하고 아무것도 반환하지 않음"
   ]
  },
  {
   "cell_type": "code",
   "execution_count": 13,
   "id": "531f73cf-f1d4-4493-a915-bca8d39ed873",
   "metadata": {},
   "outputs": [
    {
     "name": "stdout",
     "output_type": "stream",
     "text": [
      "[1 0 3 2 4]\n"
     ]
    }
   ],
   "source": [
    "x = np.array([2, 1, 4, 3, 5])\n",
    "i = np.argsort(x)\n",
    "print(i)"
   ]
  },
  {
   "cell_type": "code",
   "execution_count": 14,
   "id": "6085be18-7d9d-4895-af1b-d971d43d17df",
   "metadata": {},
   "outputs": [
    {
     "name": "stdout",
     "output_type": "stream",
     "text": [
      "[[6 3 7 4 6 9]\n",
      " [2 6 7 4 3 7]\n",
      " [7 2 5 4 1 7]\n",
      " [5 1 4 0 9 5]]\n"
     ]
    }
   ],
   "source": [
    "rand = np.random.RandomState(42)\n",
    "X = rand.randint(0, 10, (4, 6))\n",
    "print(X)"
   ]
  },
  {
   "cell_type": "code",
   "execution_count": null,
   "id": "f3825fca-394d-4b7d-b42f-c34970b65df2",
   "metadata": {},
   "outputs": [],
   "source": [
    "# X의 각 열을 정렬\n",
    "np.sort(X, axis=0)"
   ]
  }
 ],
 "metadata": {
  "kernelspec": {
   "display_name": "Python 3 (ipykernel)",
   "language": "python",
   "name": "python3"
  },
  "language_info": {
   "codemirror_mode": {
    "name": "ipython",
    "version": 3
   },
   "file_extension": ".py",
   "mimetype": "text/x-python",
   "name": "python",
   "nbconvert_exporter": "python",
   "pygments_lexer": "ipython3",
   "version": "3.11.7"
  }
 },
 "nbformat": 4,
 "nbformat_minor": 5
}
