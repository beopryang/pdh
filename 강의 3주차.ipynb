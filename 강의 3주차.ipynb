{
 "cells": [
  {
   "cell_type": "code",
   "execution_count": null,
   "id": "5fdd50bf-2b92-41e1-866c-0067954c2ce0",
   "metadata": {},
   "outputs": [],
   "source": [
    "import numpy as np\n",
    "\n",
    "biostats = np.loadtxt('C:\\Users\\user\\work\\pdh\\강의\\3주_data\\biostats.csv', delimeter = ',', dtype=np.st"
   ]
  },
  {
   "cell_type": "code",
   "execution_count": null,
   "id": "3261d5e7-77ae-493e-b5a3-6ca980f26de6",
   "metadata": {},
   "outputs": [],
   "source": []
  }
 ],
 "metadata": {
  "kernelspec": {
   "display_name": "Python 3 (ipykernel)",
   "language": "python",
   "name": "python3"
  },
  "language_info": {
   "codemirror_mode": {
    "name": "ipython",
    "version": 3
   },
   "file_extension": ".py",
   "mimetype": "text/x-python",
   "name": "python",
   "nbconvert_exporter": "python",
   "pygments_lexer": "ipython3",
   "version": "3.11.7"
  }
 },
 "nbformat": 4,
 "nbformat_minor": 5
}
