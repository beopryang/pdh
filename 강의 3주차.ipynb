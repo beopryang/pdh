{
 "cells": [
  {
   "cell_type": "code",
   "execution_count": null,
   "id": "5fdd50bf-2b92-41e1-866c-0067954c2ce0",
   "metadata": {},
   "outputs": [],
   "source": [
    "import numpy as np\n",
    "\n",
    "biostats = np.loadtxt('C:\\Users\\user\\work\\pdh\\강의\\3주_data\\biostats.csv', delimeter = ',', dtype=np.st"
   ]
  }
 ],
 "metadata": {
  "kernelspec": {
   "display_name": "",
   "name": ""
  },
  "language_info": {
   "name": ""
  }
 },
 "nbformat": 4,
 "nbformat_minor": 5
}
