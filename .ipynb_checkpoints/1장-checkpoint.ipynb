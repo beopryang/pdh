{
 "cells": [
  {
   "cell_type": "markdown",
   "id": "08bb940d-5e1b-4f49-9f47-c8496ab7f9ef",
   "metadata": {},
   "source": [
    "# ?로 문서 확인하기"
   ]
  },
  {
   "cell_type": "code",
   "execution_count": 13,
   "id": "03f1a222-5d47-4ccd-bfaf-b87f97e32cb7",
   "metadata": {},
   "outputs": [
    {
     "name": "stdout",
     "output_type": "stream",
     "text": [
      "Help on built-in function len in module builtins:\n",
      "\n",
      "len(obj, /)\n",
      "    Return the number of items in a container.\n",
      "\n"
     ]
    }
   ],
   "source": [
    "help(len)"
   ]
  },
  {
   "cell_type": "markdown",
   "id": "b672364c-c07f-4a86-8c25-5e5d8486e933",
   "metadata": {},
   "source": [
    "## len이라는 함수가 어떤 역할을 하는지 설명"
   ]
  },
  {
   "cell_type": "code",
   "execution_count": 15,
   "id": "73d9d398-0721-45f9-8ca2-52782312f5a5",
   "metadata": {},
   "outputs": [
    {
     "data": {
      "text/plain": [
       "\u001b[1;31mSignature:\u001b[0m \u001b[0mlen\u001b[0m\u001b[1;33m(\u001b[0m\u001b[0mobj\u001b[0m\u001b[1;33m,\u001b[0m \u001b[1;33m/\u001b[0m\u001b[1;33m)\u001b[0m\u001b[1;33m\u001b[0m\u001b[1;33m\u001b[0m\u001b[0m\n",
       "\u001b[1;31mDocstring:\u001b[0m Return the number of items in a container.\n",
       "\u001b[1;31mType:\u001b[0m      builtin_function_or_method"
      ]
     },
     "metadata": {},
     "output_type": "display_data"
    }
   ],
   "source": [
    "len?"
   ]
  },
  {
   "cell_type": "markdown",
   "id": "ac2757a3-de6a-4e90-ae3f-a821b71da9ba",
   "metadata": {},
   "source": [
    "## 객체에 대해서도 사용할 수 있음"
   ]
  },
  {
   "cell_type": "code",
   "execution_count": 3,
   "id": "0eeb1584-bec9-45f8-8b5e-fc88357197ed",
   "metadata": {},
   "outputs": [],
   "source": [
    "L=[1, 2, 3]"
   ]
  },
  {
   "cell_type": "code",
   "execution_count": 19,
   "id": "d7b00d55-c684-4624-9716-bc7a9f80fe56",
   "metadata": {},
   "outputs": [
    {
     "data": {
      "text/plain": [
       "\u001b[1;31mSignature:\u001b[0m \u001b[0mL\u001b[0m\u001b[1;33m.\u001b[0m\u001b[0minsert\u001b[0m\u001b[1;33m(\u001b[0m\u001b[0mindex\u001b[0m\u001b[1;33m,\u001b[0m \u001b[0mobject\u001b[0m\u001b[1;33m,\u001b[0m \u001b[1;33m/\u001b[0m\u001b[1;33m)\u001b[0m\u001b[1;33m\u001b[0m\u001b[1;33m\u001b[0m\u001b[0m\n",
       "\u001b[1;31mDocstring:\u001b[0m Insert object before index.\n",
       "\u001b[1;31mType:\u001b[0m      builtin_function_or_method"
      ]
     },
     "metadata": {},
     "output_type": "display_data"
    }
   ],
   "source": [
    "L.insert?"
   ]
  },
  {
   "cell_type": "code",
   "execution_count": 21,
   "id": "876033a5-b687-43c8-9b93-895bd76d3f42",
   "metadata": {},
   "outputs": [
    {
     "data": {
      "text/plain": [
       "\u001b[1;31mType:\u001b[0m        list\n",
       "\u001b[1;31mString form:\u001b[0m [1, 2, 3]\n",
       "\u001b[1;31mLength:\u001b[0m      3\n",
       "\u001b[1;31mDocstring:\u001b[0m  \n",
       "Built-in mutable sequence.\n",
       "\n",
       "If no argument is given, the constructor creates a new empty list.\n",
       "The argument must be an iterable if specified."
      ]
     },
     "metadata": {},
     "output_type": "display_data"
    }
   ],
   "source": [
    "L?"
   ]
  },
  {
   "cell_type": "markdown",
   "id": "df3d1006-5968-4610-843b-fcf8cf3b4b8b",
   "metadata": {},
   "source": [
    "## 직접만든 함수에 대해서도 동작"
   ]
  },
  {
   "cell_type": "code",
   "execution_count": 23,
   "id": "f2e34e69-2fe0-439c-a2e3-653f83fad15d",
   "metadata": {},
   "outputs": [],
   "source": [
    "def square(a):\n",
    "    \"\"\"a의 제곱을 반환\"\"\"\n",
    "    return a**2"
   ]
  },
  {
   "cell_type": "code",
   "execution_count": 25,
   "id": "1c59af6c-cf21-4937-90d4-1112c5bbea11",
   "metadata": {},
   "outputs": [
    {
     "data": {
      "text/plain": [
       "\u001b[1;31mSignature:\u001b[0m \u001b[0msquare\u001b[0m\u001b[1;33m(\u001b[0m\u001b[0ma\u001b[0m\u001b[1;33m)\u001b[0m\u001b[1;33m\u001b[0m\u001b[1;33m\u001b[0m\u001b[0m\n",
       "\u001b[1;31mDocstring:\u001b[0m a의 제곱을 반환\n",
       "\u001b[1;31mFile:\u001b[0m      c:\\users\\hwang\\appdata\\local\\temp\\ipykernel_14660\\2796758577.py\n",
       "\u001b[1;31mType:\u001b[0m      function"
      ]
     },
     "metadata": {},
     "output_type": "display_data"
    }
   ],
   "source": [
    "square?"
   ]
  },
  {
   "cell_type": "markdown",
   "id": "3dda0dc2-9955-4ba0-bc0e-3ad54643e528",
   "metadata": {},
   "source": [
    "# ??로 소스코드에 접근하기"
   ]
  },
  {
   "cell_type": "code",
   "execution_count": 29,
   "id": "1fb2f36b-9638-4eed-9f4a-23f246ca8a99",
   "metadata": {},
   "outputs": [
    {
     "data": {
      "text/plain": [
       "\u001b[1;31mSignature:\u001b[0m \u001b[0msquare\u001b[0m\u001b[1;33m(\u001b[0m\u001b[0ma\u001b[0m\u001b[1;33m)\u001b[0m\u001b[1;33m\u001b[0m\u001b[1;33m\u001b[0m\u001b[0m\n",
       "\u001b[1;31mSource:\u001b[0m   \n",
       "\u001b[1;32mdef\u001b[0m \u001b[0msquare\u001b[0m\u001b[1;33m(\u001b[0m\u001b[0ma\u001b[0m\u001b[1;33m)\u001b[0m\u001b[1;33m:\u001b[0m\u001b[1;33m\n",
       "\u001b[0m    \u001b[1;34m\"\"\"a의 제곱을 반환\"\"\"\u001b[0m\u001b[1;33m\n",
       "\u001b[0m    \u001b[1;32mreturn\u001b[0m \u001b[0ma\u001b[0m\u001b[1;33m**\u001b[0m\u001b[1;36m2\u001b[0m\u001b[1;33m\u001b[0m\u001b[1;33m\u001b[0m\u001b[0m\n",
       "\u001b[1;31mFile:\u001b[0m      c:\\users\\hwang\\appdata\\local\\temp\\ipykernel_14660\\2796758577.py\n",
       "\u001b[1;31mType:\u001b[0m      function"
      ]
     },
     "metadata": {},
     "output_type": "display_data"
    }
   ],
   "source": [
    "square??"
   ]
  },
  {
   "cell_type": "markdown",
   "id": "d9f84faf-1749-4da1-baea-d6e8a87a934f",
   "metadata": {},
   "source": [
    "## 질문한 객체가 파이썬에서 구현된 것이 아니라 다른 언어로 구현되었을 경우는 소스코드 표시되지 않음"
   ]
  },
  {
   "cell_type": "code",
   "execution_count": 33,
   "id": "b0fc0710-fe19-4016-9b01-f2d9dc8f7686",
   "metadata": {},
   "outputs": [
    {
     "data": {
      "text/plain": [
       "\u001b[1;31mSignature:\u001b[0m \u001b[0mlen\u001b[0m\u001b[1;33m(\u001b[0m\u001b[0mobj\u001b[0m\u001b[1;33m,\u001b[0m \u001b[1;33m/\u001b[0m\u001b[1;33m)\u001b[0m\u001b[1;33m\u001b[0m\u001b[1;33m\u001b[0m\u001b[0m\n",
       "\u001b[1;31mDocstring:\u001b[0m Return the number of items in a container.\n",
       "\u001b[1;31mType:\u001b[0m      builtin_function_or_method"
      ]
     },
     "metadata": {},
     "output_type": "display_data"
    }
   ],
   "source": [
    "len??"
   ]
  },
  {
   "cell_type": "markdown",
   "id": "f7abd32d-2719-43c0-8459-a0afc32c69e8",
   "metadata": {},
   "source": [
    "# 탭 자동 완성으로 모듈 탐색하기"
   ]
  },
  {
   "cell_type": "code",
   "execution_count": 5,
   "id": "697189fb-f47d-46eb-885a-8734c2175456",
   "metadata": {},
   "outputs": [
    {
     "ename": "SyntaxError",
     "evalue": "invalid syntax (3745167853.py, line 1)",
     "output_type": "error",
     "traceback": [
      "\u001b[1;36m  Cell \u001b[1;32mIn[5], line 1\u001b[1;36m\u001b[0m\n\u001b[1;33m    L.<TAB>\u001b[0m\n\u001b[1;37m      ^\u001b[0m\n\u001b[1;31mSyntaxError\u001b[0m\u001b[1;31m:\u001b[0m invalid syntax\n"
     ]
    }
   ],
   "source": [
    "L."
   ]
  },
  {
   "cell_type": "markdown",
   "id": "1e6dc7b9-5845-4a55-ac4d-8a20a585538e",
   "metadata": {},
   "source": [
    "## 와일드카드 매칭\n",
    "### 네임스페이스에서 Warning으로 끝나는 모든 객체를 나열"
   ]
  },
  {
   "cell_type": "code",
   "execution_count": 9,
   "id": "68cc3b73-1f68-4cfd-8615-f7285507cea6",
   "metadata": {},
   "outputs": [
    {
     "data": {
      "text/plain": [
       "BytesWarning\n",
       "DeprecationWarning\n",
       "EncodingWarning\n",
       "FutureWarning\n",
       "ImportWarning\n",
       "PendingDeprecationWarning\n",
       "ResourceWarning\n",
       "RuntimeWarning\n",
       "SyntaxWarning\n",
       "UnicodeWarning\n",
       "UserWarning\n",
       "Warning"
      ]
     },
     "metadata": {},
     "output_type": "display_data"
    }
   ],
   "source": [
    "*Warning?"
   ]
  },
  {
   "cell_type": "markdown",
   "id": "61da7370-435e-4f4a-b483-8c5432f6b373",
   "metadata": {},
   "source": [
    "# 향상된 대화형 기능\n",
    "## 외부코드 실행: %run"
   ]
  },
  {
   "cell_type": "code",
   "execution_count": 20,
   "id": "595fc621-6b60-41f8-b119-0b6ce4da2b3f",
   "metadata": {},
   "outputs": [
    {
     "name": "stdout",
     "output_type": "stream",
     "text": [
      "1 의 제곱은 1\n",
      "2 의 제곱은 4\n",
      "3 의 제곱은 9\n"
     ]
    }
   ],
   "source": [
    "%run myscript.py"
   ]
  },
  {
   "cell_type": "markdown",
   "id": "78f94bed-e802-4d8c-9970-e2a6300e21f1",
   "metadata": {},
   "source": [
    "# 코드 실행 시간 측정"
   ]
  },
  {
   "cell_type": "code",
   "execution_count": 24,
   "id": "04f3064c-7a7f-4d09-891e-e5e04180be39",
   "metadata": {},
   "outputs": [
    {
     "name": "stdout",
     "output_type": "stream",
     "text": [
      "49.7 μs ± 344 ns per loop (mean ± std. dev. of 7 runs, 10,000 loops each)\n"
     ]
    }
   ],
   "source": [
    "%timeit L = [n**2 for n in range(1000)]"
   ]
  },
  {
   "cell_type": "markdown",
   "id": "2cf54067-90c8-42a7-85ce-928499a9fdd6",
   "metadata": {},
   "source": [
    "## 여러 줄로 된 문장의 실행 시간을 측정하려면 % 기호를 하나 더 붙여서 여러 줄의 입력값을 리리"
   ]
  },
  {
   "cell_type": "code",
   "execution_count": 28,
   "id": "c9bfc80a-dd17-42db-ac9d-d55aeee60caf",
   "metadata": {},
   "outputs": [
    {
     "name": "stdout",
     "output_type": "stream",
     "text": [
      "59.5 μs ± 2.31 μs per loop (mean ± std. dev. of 7 runs, 10,000 loops each)\n"
     ]
    }
   ],
   "source": [
    "%%timeit\n",
    "L = []  \n",
    "for n in range(1000):\n",
    "    L.append(n**2)"
   ]
  },
  {
   "cell_type": "markdown",
   "id": "73794121-022a-497f-93ba-03270f27f220",
   "metadata": {},
   "source": [
    "# 입력/출력 이력"
   ]
  },
  {
   "cell_type": "code",
   "execution_count": 30,
   "id": "1de035ac-a24e-40d7-86d2-3b0db629957e",
   "metadata": {},
   "outputs": [],
   "source": [
    "import math"
   ]
  },
  {
   "cell_type": "code",
   "execution_count": 32,
   "id": "3305f2af-d98d-4229-8e45-200d240790a8",
   "metadata": {},
   "outputs": [
    {
     "data": {
      "text/plain": [
       "0.9092974268256817"
      ]
     },
     "execution_count": 32,
     "metadata": {},
     "output_type": "execute_result"
    }
   ],
   "source": [
    "math.sin(2)"
   ]
  },
  {
   "cell_type": "code",
   "execution_count": 34,
   "id": "43613b62-8271-4084-8bff-1b777223fde1",
   "metadata": {},
   "outputs": [
    {
     "data": {
      "text/plain": [
       "-0.4161468365471424"
      ]
     },
     "execution_count": 34,
     "metadata": {},
     "output_type": "execute_result"
    }
   ],
   "source": [
    "math.cos(2)"
   ]
  },
  {
   "cell_type": "code",
   "execution_count": 38,
   "id": "c2e0bf41-31d4-4275-b64a-35ab884fc119",
   "metadata": {},
   "outputs": [
    {
     "name": "stdout",
     "output_type": "stream",
     "text": [
      "['', 'L.<TAB>', 'import json\\nimport getpass\\nimport hashlib\\n\\ndef import_pandas_safely():\\n    try:\\n        return __import__(\\'pandas\\')\\n    except ImportError:\\n        return False\\n\\n\\n__pandas = import_pandas_safely()\\n\\n\\ndef is_data_frame(v: str):\\n    obj = eval(v)\\n    if  isinstance(obj, __pandas.core.frame.DataFrame) or isinstance(obj, __pandas.core.series.Series):\\n        return True\\n\\n\\ndef dataframe_columns(var):\\n    df = eval(var)\\n    if isinstance(df, __pandas.core.series.Series):\\n        return [[df.name, str(df.dtype)]]\\n    return list(map(lambda col: [col, str(df[col].dtype)], df.columns))\\n\\n\\ndef dtypes_str(frame):\\n    return str(eval(frame).dtypes)\\n\\ndef dataframe_hash(var):\\n    # Return a hash including the column names and number of rows\\n    df = eval(var)\\n    if isinstance(df, __pandas.core.series.Series):\\n        return hashlib.sha256(f\"{var}-{df.name},{len(df)}\".encode(\\'utf-8\\')).hexdigest()\\n    return hashlib.sha256(f\"{var}-{\\',\\'.join(df.columns)},{len(df)}\".encode(\\'utf-8\\')).hexdigest()\\n\\ndef get_dataframes():\\n    if __pandas is None:\\n        return []\\n    user = getpass.getuser()\\n    values = get_ipython().run_line_magic(\\'who_ls\\', \\'\\')\\n    dataframes = [\\n        {\\n            \"name\": var,\\n            \"type\": type(eval(var)).__name__,\\n            \"hash\": dataframe_hash(var),\\n            \"cols\": dataframe_columns(var),\\n            \"dtypesStr\": dtypes_str(var),\\n        }\\n        for var in values if is_data_frame(var)\\n    ]\\n    result = {\"dataframes\": dataframes, \"user\": user}\\n    return json.dumps(result, ensure_ascii=False)\\n\\n\\nget_dataframes()', 'L=[1, 2, 3]', 'import json\\nimport getpass\\nimport hashlib\\n\\ndef import_pandas_safely():\\n    try:\\n        return __import__(\\'pandas\\')\\n    except ImportError:\\n        return False\\n\\n\\n__pandas = import_pandas_safely()\\n\\n\\ndef is_data_frame(v: str):\\n    obj = eval(v)\\n    if  isinstance(obj, __pandas.core.frame.DataFrame) or isinstance(obj, __pandas.core.series.Series):\\n        return True\\n\\n\\ndef dataframe_columns(var):\\n    df = eval(var)\\n    if isinstance(df, __pandas.core.series.Series):\\n        return [[df.name, str(df.dtype)]]\\n    return list(map(lambda col: [col, str(df[col].dtype)], df.columns))\\n\\n\\ndef dtypes_str(frame):\\n    return str(eval(frame).dtypes)\\n\\ndef dataframe_hash(var):\\n    # Return a hash including the column names and number of rows\\n    df = eval(var)\\n    if isinstance(df, __pandas.core.series.Series):\\n        return hashlib.sha256(f\"{var}-{df.name},{len(df)}\".encode(\\'utf-8\\')).hexdigest()\\n    return hashlib.sha256(f\"{var}-{\\',\\'.join(df.columns)},{len(df)}\".encode(\\'utf-8\\')).hexdigest()\\n\\ndef get_dataframes():\\n    if __pandas is None:\\n        return []\\n    user = getpass.getuser()\\n    values = get_ipython().run_line_magic(\\'who_ls\\', \\'\\')\\n    dataframes = [\\n        {\\n            \"name\": var,\\n            \"type\": type(eval(var)).__name__,\\n            \"hash\": dataframe_hash(var),\\n            \"cols\": dataframe_columns(var),\\n            \"dtypesStr\": dtypes_str(var),\\n        }\\n        for var in values if is_data_frame(var)\\n    ]\\n    result = {\"dataframes\": dataframes, \"user\": user}\\n    return json.dumps(result, ensure_ascii=False)\\n\\n\\nget_dataframes()', 'L.<TAB>', 'import json\\nimport getpass\\nimport hashlib\\n\\ndef import_pandas_safely():\\n    try:\\n        return __import__(\\'pandas\\')\\n    except ImportError:\\n        return False\\n\\n\\n__pandas = import_pandas_safely()\\n\\n\\ndef is_data_frame(v: str):\\n    obj = eval(v)\\n    if  isinstance(obj, __pandas.core.frame.DataFrame) or isinstance(obj, __pandas.core.series.Series):\\n        return True\\n\\n\\ndef dataframe_columns(var):\\n    df = eval(var)\\n    if isinstance(df, __pandas.core.series.Series):\\n        return [[df.name, str(df.dtype)]]\\n    return list(map(lambda col: [col, str(df[col].dtype)], df.columns))\\n\\n\\ndef dtypes_str(frame):\\n    return str(eval(frame).dtypes)\\n\\ndef dataframe_hash(var):\\n    # Return a hash including the column names and number of rows\\n    df = eval(var)\\n    if isinstance(df, __pandas.core.series.Series):\\n        return hashlib.sha256(f\"{var}-{df.name},{len(df)}\".encode(\\'utf-8\\')).hexdigest()\\n    return hashlib.sha256(f\"{var}-{\\',\\'.join(df.columns)},{len(df)}\".encode(\\'utf-8\\')).hexdigest()\\n\\ndef get_dataframes():\\n    if __pandas is None:\\n        return []\\n    user = getpass.getuser()\\n    values = get_ipython().run_line_magic(\\'who_ls\\', \\'\\')\\n    dataframes = [\\n        {\\n            \"name\": var,\\n            \"type\": type(eval(var)).__name__,\\n            \"hash\": dataframe_hash(var),\\n            \"cols\": dataframe_columns(var),\\n            \"dtypesStr\": dtypes_str(var),\\n        }\\n        for var in values if is_data_frame(var)\\n    ]\\n    result = {\"dataframes\": dataframes, \"user\": user}\\n    return json.dumps(result, ensure_ascii=False)\\n\\n\\nget_dataframes()', '*Warning', 'import json\\nimport getpass\\nimport hashlib\\n\\ndef import_pandas_safely():\\n    try:\\n        return __import__(\\'pandas\\')\\n    except ImportError:\\n        return False\\n\\n\\n__pandas = import_pandas_safely()\\n\\n\\ndef is_data_frame(v: str):\\n    obj = eval(v)\\n    if  isinstance(obj, __pandas.core.frame.DataFrame) or isinstance(obj, __pandas.core.series.Series):\\n        return True\\n\\n\\ndef dataframe_columns(var):\\n    df = eval(var)\\n    if isinstance(df, __pandas.core.series.Series):\\n        return [[df.name, str(df.dtype)]]\\n    return list(map(lambda col: [col, str(df[col].dtype)], df.columns))\\n\\n\\ndef dtypes_str(frame):\\n    return str(eval(frame).dtypes)\\n\\ndef dataframe_hash(var):\\n    # Return a hash including the column names and number of rows\\n    df = eval(var)\\n    if isinstance(df, __pandas.core.series.Series):\\n        return hashlib.sha256(f\"{var}-{df.name},{len(df)}\".encode(\\'utf-8\\')).hexdigest()\\n    return hashlib.sha256(f\"{var}-{\\',\\'.join(df.columns)},{len(df)}\".encode(\\'utf-8\\')).hexdigest()\\n\\ndef get_dataframes():\\n    if __pandas is None:\\n        return []\\n    user = getpass.getuser()\\n    values = get_ipython().run_line_magic(\\'who_ls\\', \\'\\')\\n    dataframes = [\\n        {\\n            \"name\": var,\\n            \"type\": type(eval(var)).__name__,\\n            \"hash\": dataframe_hash(var),\\n            \"cols\": dataframe_columns(var),\\n            \"dtypesStr\": dtypes_str(var),\\n        }\\n        for var in values if is_data_frame(var)\\n    ]\\n    result = {\"dataframes\": dataframes, \"user\": user}\\n    return json.dumps(result, ensure_ascii=False)\\n\\n\\nget_dataframes()', \"get_ipython().run_line_magic('psearch', '*Warning')\", 'import json\\nimport getpass\\nimport hashlib\\n\\ndef import_pandas_safely():\\n    try:\\n        return __import__(\\'pandas\\')\\n    except ImportError:\\n        return False\\n\\n\\n__pandas = import_pandas_safely()\\n\\n\\ndef is_data_frame(v: str):\\n    obj = eval(v)\\n    if  isinstance(obj, __pandas.core.frame.DataFrame) or isinstance(obj, __pandas.core.series.Series):\\n        return True\\n\\n\\ndef dataframe_columns(var):\\n    df = eval(var)\\n    if isinstance(df, __pandas.core.series.Series):\\n        return [[df.name, str(df.dtype)]]\\n    return list(map(lambda col: [col, str(df[col].dtype)], df.columns))\\n\\n\\ndef dtypes_str(frame):\\n    return str(eval(frame).dtypes)\\n\\ndef dataframe_hash(var):\\n    # Return a hash including the column names and number of rows\\n    df = eval(var)\\n    if isinstance(df, __pandas.core.series.Series):\\n        return hashlib.sha256(f\"{var}-{df.name},{len(df)}\".encode(\\'utf-8\\')).hexdigest()\\n    return hashlib.sha256(f\"{var}-{\\',\\'.join(df.columns)},{len(df)}\".encode(\\'utf-8\\')).hexdigest()\\n\\ndef get_dataframes():\\n    if __pandas is None:\\n        return []\\n    user = getpass.getuser()\\n    values = get_ipython().run_line_magic(\\'who_ls\\', \\'\\')\\n    dataframes = [\\n        {\\n            \"name\": var,\\n            \"type\": type(eval(var)).__name__,\\n            \"hash\": dataframe_hash(var),\\n            \"cols\": dataframe_columns(var),\\n            \"dtypesStr\": dtypes_str(var),\\n        }\\n        for var in values if is_data_frame(var)\\n    ]\\n    result = {\"dataframes\": dataframes, \"user\": user}\\n    return json.dumps(result, ensure_ascii=False)\\n\\n\\nget_dataframes()', 'import json\\nimport getpass\\nimport hashlib\\n\\ndef import_pandas_safely():\\n    try:\\n        return __import__(\\'pandas\\')\\n    except ImportError:\\n        return False\\n\\n\\n__pandas = import_pandas_safely()\\n\\n\\ndef is_data_frame(v: str):\\n    obj = eval(v)\\n    if  isinstance(obj, __pandas.core.frame.DataFrame) or isinstance(obj, __pandas.core.series.Series):\\n        return True\\n\\n\\ndef dataframe_columns(var):\\n    df = eval(var)\\n    if isinstance(df, __pandas.core.series.Series):\\n        return [[df.name, str(df.dtype)]]\\n    return list(map(lambda col: [col, str(df[col].dtype)], df.columns))\\n\\n\\ndef dtypes_str(frame):\\n    return str(eval(frame).dtypes)\\n\\ndef dataframe_hash(var):\\n    # Return a hash including the column names and number of rows\\n    df = eval(var)\\n    if isinstance(df, __pandas.core.series.Series):\\n        return hashlib.sha256(f\"{var}-{df.name},{len(df)}\".encode(\\'utf-8\\')).hexdigest()\\n    return hashlib.sha256(f\"{var}-{\\',\\'.join(df.columns)},{len(df)}\".encode(\\'utf-8\\')).hexdigest()\\n\\ndef get_dataframes():\\n    if __pandas is None:\\n        return []\\n    user = getpass.getuser()\\n    values = get_ipython().run_line_magic(\\'who_ls\\', \\'\\')\\n    dataframes = [\\n        {\\n            \"name\": var,\\n            \"type\": type(eval(var)).__name__,\\n            \"hash\": dataframe_hash(var),\\n            \"cols\": dataframe_columns(var),\\n            \"dtypesStr\": dtypes_str(var),\\n        }\\n        for var in values if is_data_frame(var)\\n    ]\\n    result = {\"dataframes\": dataframes, \"user\": user}\\n    return json.dumps(result, ensure_ascii=False)\\n\\n\\nget_dataframes()', 'import json\\nimport getpass\\nimport hashlib\\n\\ndef import_pandas_safely():\\n    try:\\n        return __import__(\\'pandas\\')\\n    except ImportError:\\n        return False\\n\\n\\n__pandas = import_pandas_safely()\\n\\n\\ndef is_data_frame(v: str):\\n    obj = eval(v)\\n    if  isinstance(obj, __pandas.core.frame.DataFrame) or isinstance(obj, __pandas.core.series.Series):\\n        return True\\n\\n\\ndef dataframe_columns(var):\\n    df = eval(var)\\n    if isinstance(df, __pandas.core.series.Series):\\n        return [[df.name, str(df.dtype)]]\\n    return list(map(lambda col: [col, str(df[col].dtype)], df.columns))\\n\\n\\ndef dtypes_str(frame):\\n    return str(eval(frame).dtypes)\\n\\ndef dataframe_hash(var):\\n    # Return a hash including the column names and number of rows\\n    df = eval(var)\\n    if isinstance(df, __pandas.core.series.Series):\\n        return hashlib.sha256(f\"{var}-{df.name},{len(df)}\".encode(\\'utf-8\\')).hexdigest()\\n    return hashlib.sha256(f\"{var}-{\\',\\'.join(df.columns)},{len(df)}\".encode(\\'utf-8\\')).hexdigest()\\n\\ndef get_dataframes():\\n    if __pandas is None:\\n        return []\\n    user = getpass.getuser()\\n    values = get_ipython().run_line_magic(\\'who_ls\\', \\'\\')\\n    dataframes = [\\n        {\\n            \"name\": var,\\n            \"type\": type(eval(var)).__name__,\\n            \"hash\": dataframe_hash(var),\\n            \"cols\": dataframe_columns(var),\\n            \"dtypesStr\": dtypes_str(var),\\n        }\\n        for var in values if is_data_frame(var)\\n    ]\\n    result = {\"dataframes\": dataframes, \"user\": user}\\n    return json.dumps(result, ensure_ascii=False)\\n\\n\\nget_dataframes()', 'I-search backward:', 'import json\\nimport getpass\\nimport hashlib\\n\\ndef import_pandas_safely():\\n    try:\\n        return __import__(\\'pandas\\')\\n    except ImportError:\\n        return False\\n\\n\\n__pandas = import_pandas_safely()\\n\\n\\ndef is_data_frame(v: str):\\n    obj = eval(v)\\n    if  isinstance(obj, __pandas.core.frame.DataFrame) or isinstance(obj, __pandas.core.series.Series):\\n        return True\\n\\n\\ndef dataframe_columns(var):\\n    df = eval(var)\\n    if isinstance(df, __pandas.core.series.Series):\\n        return [[df.name, str(df.dtype)]]\\n    return list(map(lambda col: [col, str(df[col].dtype)], df.columns))\\n\\n\\ndef dtypes_str(frame):\\n    return str(eval(frame).dtypes)\\n\\ndef dataframe_hash(var):\\n    # Return a hash including the column names and number of rows\\n    df = eval(var)\\n    if isinstance(df, __pandas.core.series.Series):\\n        return hashlib.sha256(f\"{var}-{df.name},{len(df)}\".encode(\\'utf-8\\')).hexdigest()\\n    return hashlib.sha256(f\"{var}-{\\',\\'.join(df.columns)},{len(df)}\".encode(\\'utf-8\\')).hexdigest()\\n\\ndef get_dataframes():\\n    if __pandas is None:\\n        return []\\n    user = getpass.getuser()\\n    values = get_ipython().run_line_magic(\\'who_ls\\', \\'\\')\\n    dataframes = [\\n        {\\n            \"name\": var,\\n            \"type\": type(eval(var)).__name__,\\n            \"hash\": dataframe_hash(var),\\n            \"cols\": dataframe_columns(var),\\n            \"dtypesStr\": dtypes_str(var),\\n        }\\n        for var in values if is_data_frame(var)\\n    ]\\n    result = {\"dataframes\": dataframes, \"user\": user}\\n    return json.dumps(result, ensure_ascii=False)\\n\\n\\nget_dataframes()', 'import json\\nimport getpass\\nimport hashlib\\n\\ndef import_pandas_safely():\\n    try:\\n        return __import__(\\'pandas\\')\\n    except ImportError:\\n        return False\\n\\n\\n__pandas = import_pandas_safely()\\n\\n\\ndef is_data_frame(v: str):\\n    obj = eval(v)\\n    if  isinstance(obj, __pandas.core.frame.DataFrame) or isinstance(obj, __pandas.core.series.Series):\\n        return True\\n\\n\\ndef dataframe_columns(var):\\n    df = eval(var)\\n    if isinstance(df, __pandas.core.series.Series):\\n        return [[df.name, str(df.dtype)]]\\n    return list(map(lambda col: [col, str(df[col].dtype)], df.columns))\\n\\n\\ndef dtypes_str(frame):\\n    return str(eval(frame).dtypes)\\n\\ndef dataframe_hash(var):\\n    # Return a hash including the column names and number of rows\\n    df = eval(var)\\n    if isinstance(df, __pandas.core.series.Series):\\n        return hashlib.sha256(f\"{var}-{df.name},{len(df)}\".encode(\\'utf-8\\')).hexdigest()\\n    return hashlib.sha256(f\"{var}-{\\',\\'.join(df.columns)},{len(df)}\".encode(\\'utf-8\\')).hexdigest()\\n\\ndef get_dataframes():\\n    if __pandas is None:\\n        return []\\n    user = getpass.getuser()\\n    values = get_ipython().run_line_magic(\\'who_ls\\', \\'\\')\\n    dataframes = [\\n        {\\n            \"name\": var,\\n            \"type\": type(eval(var)).__name__,\\n            \"hash\": dataframe_hash(var),\\n            \"cols\": dataframe_columns(var),\\n            \"dtypesStr\": dtypes_str(var),\\n        }\\n        for var in values if is_data_frame(var)\\n    ]\\n    result = {\"dataframes\": dataframes, \"user\": user}\\n    return json.dumps(result, ensure_ascii=False)\\n\\n\\nget_dataframes()', \"get_ipython().run_line_magic('run', 'myscript.py')\", 'import json\\nimport getpass\\nimport hashlib\\n\\ndef import_pandas_safely():\\n    try:\\n        return __import__(\\'pandas\\')\\n    except ImportError:\\n        return False\\n\\n\\n__pandas = import_pandas_safely()\\n\\n\\ndef is_data_frame(v: str):\\n    obj = eval(v)\\n    if  isinstance(obj, __pandas.core.frame.DataFrame) or isinstance(obj, __pandas.core.series.Series):\\n        return True\\n\\n\\ndef dataframe_columns(var):\\n    df = eval(var)\\n    if isinstance(df, __pandas.core.series.Series):\\n        return [[df.name, str(df.dtype)]]\\n    return list(map(lambda col: [col, str(df[col].dtype)], df.columns))\\n\\n\\ndef dtypes_str(frame):\\n    return str(eval(frame).dtypes)\\n\\ndef dataframe_hash(var):\\n    # Return a hash including the column names and number of rows\\n    df = eval(var)\\n    if isinstance(df, __pandas.core.series.Series):\\n        return hashlib.sha256(f\"{var}-{df.name},{len(df)}\".encode(\\'utf-8\\')).hexdigest()\\n    return hashlib.sha256(f\"{var}-{\\',\\'.join(df.columns)},{len(df)}\".encode(\\'utf-8\\')).hexdigest()\\n\\ndef get_dataframes():\\n    if __pandas is None:\\n        return []\\n    user = getpass.getuser()\\n    values = get_ipython().run_line_magic(\\'who_ls\\', \\'\\')\\n    dataframes = [\\n        {\\n            \"name\": var,\\n            \"type\": type(eval(var)).__name__,\\n            \"hash\": dataframe_hash(var),\\n            \"cols\": dataframe_columns(var),\\n            \"dtypesStr\": dtypes_str(var),\\n        }\\n        for var in values if is_data_frame(var)\\n    ]\\n    result = {\"dataframes\": dataframes, \"user\": user}\\n    return json.dumps(result, ensure_ascii=False)\\n\\n\\nget_dataframes()', \"get_ipython().run_line_magic('run', 'myscript.py')\", 'import json\\nimport getpass\\nimport hashlib\\n\\ndef import_pandas_safely():\\n    try:\\n        return __import__(\\'pandas\\')\\n    except ImportError:\\n        return False\\n\\n\\n__pandas = import_pandas_safely()\\n\\n\\ndef is_data_frame(v: str):\\n    obj = eval(v)\\n    if  isinstance(obj, __pandas.core.frame.DataFrame) or isinstance(obj, __pandas.core.series.Series):\\n        return True\\n\\n\\ndef dataframe_columns(var):\\n    df = eval(var)\\n    if isinstance(df, __pandas.core.series.Series):\\n        return [[df.name, str(df.dtype)]]\\n    return list(map(lambda col: [col, str(df[col].dtype)], df.columns))\\n\\n\\ndef dtypes_str(frame):\\n    return str(eval(frame).dtypes)\\n\\ndef dataframe_hash(var):\\n    # Return a hash including the column names and number of rows\\n    df = eval(var)\\n    if isinstance(df, __pandas.core.series.Series):\\n        return hashlib.sha256(f\"{var}-{df.name},{len(df)}\".encode(\\'utf-8\\')).hexdigest()\\n    return hashlib.sha256(f\"{var}-{\\',\\'.join(df.columns)},{len(df)}\".encode(\\'utf-8\\')).hexdigest()\\n\\ndef get_dataframes():\\n    if __pandas is None:\\n        return []\\n    user = getpass.getuser()\\n    values = get_ipython().run_line_magic(\\'who_ls\\', \\'\\')\\n    dataframes = [\\n        {\\n            \"name\": var,\\n            \"type\": type(eval(var)).__name__,\\n            \"hash\": dataframe_hash(var),\\n            \"cols\": dataframe_columns(var),\\n            \"dtypesStr\": dtypes_str(var),\\n        }\\n        for var in values if is_data_frame(var)\\n    ]\\n    result = {\"dataframes\": dataframes, \"user\": user}\\n    return json.dumps(result, ensure_ascii=False)\\n\\n\\nget_dataframes()', \"get_ipython().run_line_magic('run', 'myscript.py')\", 'import json\\nimport getpass\\nimport hashlib\\n\\ndef import_pandas_safely():\\n    try:\\n        return __import__(\\'pandas\\')\\n    except ImportError:\\n        return False\\n\\n\\n__pandas = import_pandas_safely()\\n\\n\\ndef is_data_frame(v: str):\\n    obj = eval(v)\\n    if  isinstance(obj, __pandas.core.frame.DataFrame) or isinstance(obj, __pandas.core.series.Series):\\n        return True\\n\\n\\ndef dataframe_columns(var):\\n    df = eval(var)\\n    if isinstance(df, __pandas.core.series.Series):\\n        return [[df.name, str(df.dtype)]]\\n    return list(map(lambda col: [col, str(df[col].dtype)], df.columns))\\n\\n\\ndef dtypes_str(frame):\\n    return str(eval(frame).dtypes)\\n\\ndef dataframe_hash(var):\\n    # Return a hash including the column names and number of rows\\n    df = eval(var)\\n    if isinstance(df, __pandas.core.series.Series):\\n        return hashlib.sha256(f\"{var}-{df.name},{len(df)}\".encode(\\'utf-8\\')).hexdigest()\\n    return hashlib.sha256(f\"{var}-{\\',\\'.join(df.columns)},{len(df)}\".encode(\\'utf-8\\')).hexdigest()\\n\\ndef get_dataframes():\\n    if __pandas is None:\\n        return []\\n    user = getpass.getuser()\\n    values = get_ipython().run_line_magic(\\'who_ls\\', \\'\\')\\n    dataframes = [\\n        {\\n            \"name\": var,\\n            \"type\": type(eval(var)).__name__,\\n            \"hash\": dataframe_hash(var),\\n            \"cols\": dataframe_columns(var),\\n            \"dtypesStr\": dtypes_str(var),\\n        }\\n        for var in values if is_data_frame(var)\\n    ]\\n    result = {\"dataframes\": dataframes, \"user\": user}\\n    return json.dumps(result, ensure_ascii=False)\\n\\n\\nget_dataframes()', 'import json\\nimport getpass\\nimport hashlib\\n\\ndef import_pandas_safely():\\n    try:\\n        return __import__(\\'pandas\\')\\n    except ImportError:\\n        return False\\n\\n\\n__pandas = import_pandas_safely()\\n\\n\\ndef is_data_frame(v: str):\\n    obj = eval(v)\\n    if  isinstance(obj, __pandas.core.frame.DataFrame) or isinstance(obj, __pandas.core.series.Series):\\n        return True\\n\\n\\ndef dataframe_columns(var):\\n    df = eval(var)\\n    if isinstance(df, __pandas.core.series.Series):\\n        return [[df.name, str(df.dtype)]]\\n    return list(map(lambda col: [col, str(df[col].dtype)], df.columns))\\n\\n\\ndef dtypes_str(frame):\\n    return str(eval(frame).dtypes)\\n\\ndef dataframe_hash(var):\\n    # Return a hash including the column names and number of rows\\n    df = eval(var)\\n    if isinstance(df, __pandas.core.series.Series):\\n        return hashlib.sha256(f\"{var}-{df.name},{len(df)}\".encode(\\'utf-8\\')).hexdigest()\\n    return hashlib.sha256(f\"{var}-{\\',\\'.join(df.columns)},{len(df)}\".encode(\\'utf-8\\')).hexdigest()\\n\\ndef get_dataframes():\\n    if __pandas is None:\\n        return []\\n    user = getpass.getuser()\\n    values = get_ipython().run_line_magic(\\'who_ls\\', \\'\\')\\n    dataframes = [\\n        {\\n            \"name\": var,\\n            \"type\": type(eval(var)).__name__,\\n            \"hash\": dataframe_hash(var),\\n            \"cols\": dataframe_columns(var),\\n            \"dtypesStr\": dtypes_str(var),\\n        }\\n        for var in values if is_data_frame(var)\\n    ]\\n    result = {\"dataframes\": dataframes, \"user\": user}\\n    return json.dumps(result, ensure_ascii=False)\\n\\n\\nget_dataframes()', 'import json\\nimport getpass\\nimport hashlib\\n\\ndef import_pandas_safely():\\n    try:\\n        return __import__(\\'pandas\\')\\n    except ImportError:\\n        return False\\n\\n\\n__pandas = import_pandas_safely()\\n\\n\\ndef is_data_frame(v: str):\\n    obj = eval(v)\\n    if  isinstance(obj, __pandas.core.frame.DataFrame) or isinstance(obj, __pandas.core.series.Series):\\n        return True\\n\\n\\ndef dataframe_columns(var):\\n    df = eval(var)\\n    if isinstance(df, __pandas.core.series.Series):\\n        return [[df.name, str(df.dtype)]]\\n    return list(map(lambda col: [col, str(df[col].dtype)], df.columns))\\n\\n\\ndef dtypes_str(frame):\\n    return str(eval(frame).dtypes)\\n\\ndef dataframe_hash(var):\\n    # Return a hash including the column names and number of rows\\n    df = eval(var)\\n    if isinstance(df, __pandas.core.series.Series):\\n        return hashlib.sha256(f\"{var}-{df.name},{len(df)}\".encode(\\'utf-8\\')).hexdigest()\\n    return hashlib.sha256(f\"{var}-{\\',\\'.join(df.columns)},{len(df)}\".encode(\\'utf-8\\')).hexdigest()\\n\\ndef get_dataframes():\\n    if __pandas is None:\\n        return []\\n    user = getpass.getuser()\\n    values = get_ipython().run_line_magic(\\'who_ls\\', \\'\\')\\n    dataframes = [\\n        {\\n            \"name\": var,\\n            \"type\": type(eval(var)).__name__,\\n            \"hash\": dataframe_hash(var),\\n            \"cols\": dataframe_columns(var),\\n            \"dtypesStr\": dtypes_str(var),\\n        }\\n        for var in values if is_data_frame(var)\\n    ]\\n    result = {\"dataframes\": dataframes, \"user\": user}\\n    return json.dumps(result, ensure_ascii=False)\\n\\n\\nget_dataframes()', \"get_ipython().run_line_magic('timeit', 'L = [n**2 for n in range(1000)]')\", 'import json\\nimport getpass\\nimport hashlib\\n\\ndef import_pandas_safely():\\n    try:\\n        return __import__(\\'pandas\\')\\n    except ImportError:\\n        return False\\n\\n\\n__pandas = import_pandas_safely()\\n\\n\\ndef is_data_frame(v: str):\\n    obj = eval(v)\\n    if  isinstance(obj, __pandas.core.frame.DataFrame) or isinstance(obj, __pandas.core.series.Series):\\n        return True\\n\\n\\ndef dataframe_columns(var):\\n    df = eval(var)\\n    if isinstance(df, __pandas.core.series.Series):\\n        return [[df.name, str(df.dtype)]]\\n    return list(map(lambda col: [col, str(df[col].dtype)], df.columns))\\n\\n\\ndef dtypes_str(frame):\\n    return str(eval(frame).dtypes)\\n\\ndef dataframe_hash(var):\\n    # Return a hash including the column names and number of rows\\n    df = eval(var)\\n    if isinstance(df, __pandas.core.series.Series):\\n        return hashlib.sha256(f\"{var}-{df.name},{len(df)}\".encode(\\'utf-8\\')).hexdigest()\\n    return hashlib.sha256(f\"{var}-{\\',\\'.join(df.columns)},{len(df)}\".encode(\\'utf-8\\')).hexdigest()\\n\\ndef get_dataframes():\\n    if __pandas is None:\\n        return []\\n    user = getpass.getuser()\\n    values = get_ipython().run_line_magic(\\'who_ls\\', \\'\\')\\n    dataframes = [\\n        {\\n            \"name\": var,\\n            \"type\": type(eval(var)).__name__,\\n            \"hash\": dataframe_hash(var),\\n            \"cols\": dataframe_columns(var),\\n            \"dtypesStr\": dtypes_str(var),\\n        }\\n        for var in values if is_data_frame(var)\\n    ]\\n    result = {\"dataframes\": dataframes, \"user\": user}\\n    return json.dumps(result, ensure_ascii=False)\\n\\n\\nget_dataframes()', \"get_ipython().run_cell_magic('', 'timeit', '    :L = []\\\\n    : for n in range(1000):\\\\n        L.append(n**2)\\\\n        \\\\n')\", 'import json\\nimport getpass\\nimport hashlib\\n\\ndef import_pandas_safely():\\n    try:\\n        return __import__(\\'pandas\\')\\n    except ImportError:\\n        return False\\n\\n\\n__pandas = import_pandas_safely()\\n\\n\\ndef is_data_frame(v: str):\\n    obj = eval(v)\\n    if  isinstance(obj, __pandas.core.frame.DataFrame) or isinstance(obj, __pandas.core.series.Series):\\n        return True\\n\\n\\ndef dataframe_columns(var):\\n    df = eval(var)\\n    if isinstance(df, __pandas.core.series.Series):\\n        return [[df.name, str(df.dtype)]]\\n    return list(map(lambda col: [col, str(df[col].dtype)], df.columns))\\n\\n\\ndef dtypes_str(frame):\\n    return str(eval(frame).dtypes)\\n\\ndef dataframe_hash(var):\\n    # Return a hash including the column names and number of rows\\n    df = eval(var)\\n    if isinstance(df, __pandas.core.series.Series):\\n        return hashlib.sha256(f\"{var}-{df.name},{len(df)}\".encode(\\'utf-8\\')).hexdigest()\\n    return hashlib.sha256(f\"{var}-{\\',\\'.join(df.columns)},{len(df)}\".encode(\\'utf-8\\')).hexdigest()\\n\\ndef get_dataframes():\\n    if __pandas is None:\\n        return []\\n    user = getpass.getuser()\\n    values = get_ipython().run_line_magic(\\'who_ls\\', \\'\\')\\n    dataframes = [\\n        {\\n            \"name\": var,\\n            \"type\": type(eval(var)).__name__,\\n            \"hash\": dataframe_hash(var),\\n            \"cols\": dataframe_columns(var),\\n            \"dtypesStr\": dtypes_str(var),\\n        }\\n        for var in values if is_data_frame(var)\\n    ]\\n    result = {\"dataframes\": dataframes, \"user\": user}\\n    return json.dumps(result, ensure_ascii=False)\\n\\n\\nget_dataframes()', \"get_ipython().run_cell_magic('timeit', '', 'L = []  # 콜론(:) 제거\\\\nfor n in range(1000):\\\\n    L.append(n**2)\\\\n')\", 'import json\\nimport getpass\\nimport hashlib\\n\\ndef import_pandas_safely():\\n    try:\\n        return __import__(\\'pandas\\')\\n    except ImportError:\\n        return False\\n\\n\\n__pandas = import_pandas_safely()\\n\\n\\ndef is_data_frame(v: str):\\n    obj = eval(v)\\n    if  isinstance(obj, __pandas.core.frame.DataFrame) or isinstance(obj, __pandas.core.series.Series):\\n        return True\\n\\n\\ndef dataframe_columns(var):\\n    df = eval(var)\\n    if isinstance(df, __pandas.core.series.Series):\\n        return [[df.name, str(df.dtype)]]\\n    return list(map(lambda col: [col, str(df[col].dtype)], df.columns))\\n\\n\\ndef dtypes_str(frame):\\n    return str(eval(frame).dtypes)\\n\\ndef dataframe_hash(var):\\n    # Return a hash including the column names and number of rows\\n    df = eval(var)\\n    if isinstance(df, __pandas.core.series.Series):\\n        return hashlib.sha256(f\"{var}-{df.name},{len(df)}\".encode(\\'utf-8\\')).hexdigest()\\n    return hashlib.sha256(f\"{var}-{\\',\\'.join(df.columns)},{len(df)}\".encode(\\'utf-8\\')).hexdigest()\\n\\ndef get_dataframes():\\n    if __pandas is None:\\n        return []\\n    user = getpass.getuser()\\n    values = get_ipython().run_line_magic(\\'who_ls\\', \\'\\')\\n    dataframes = [\\n        {\\n            \"name\": var,\\n            \"type\": type(eval(var)).__name__,\\n            \"hash\": dataframe_hash(var),\\n            \"cols\": dataframe_columns(var),\\n            \"dtypesStr\": dtypes_str(var),\\n        }\\n        for var in values if is_data_frame(var)\\n    ]\\n    result = {\"dataframes\": dataframes, \"user\": user}\\n    return json.dumps(result, ensure_ascii=False)\\n\\n\\nget_dataframes()', 'import math', 'import json\\nimport getpass\\nimport hashlib\\n\\ndef import_pandas_safely():\\n    try:\\n        return __import__(\\'pandas\\')\\n    except ImportError:\\n        return False\\n\\n\\n__pandas = import_pandas_safely()\\n\\n\\ndef is_data_frame(v: str):\\n    obj = eval(v)\\n    if  isinstance(obj, __pandas.core.frame.DataFrame) or isinstance(obj, __pandas.core.series.Series):\\n        return True\\n\\n\\ndef dataframe_columns(var):\\n    df = eval(var)\\n    if isinstance(df, __pandas.core.series.Series):\\n        return [[df.name, str(df.dtype)]]\\n    return list(map(lambda col: [col, str(df[col].dtype)], df.columns))\\n\\n\\ndef dtypes_str(frame):\\n    return str(eval(frame).dtypes)\\n\\ndef dataframe_hash(var):\\n    # Return a hash including the column names and number of rows\\n    df = eval(var)\\n    if isinstance(df, __pandas.core.series.Series):\\n        return hashlib.sha256(f\"{var}-{df.name},{len(df)}\".encode(\\'utf-8\\')).hexdigest()\\n    return hashlib.sha256(f\"{var}-{\\',\\'.join(df.columns)},{len(df)}\".encode(\\'utf-8\\')).hexdigest()\\n\\ndef get_dataframes():\\n    if __pandas is None:\\n        return []\\n    user = getpass.getuser()\\n    values = get_ipython().run_line_magic(\\'who_ls\\', \\'\\')\\n    dataframes = [\\n        {\\n            \"name\": var,\\n            \"type\": type(eval(var)).__name__,\\n            \"hash\": dataframe_hash(var),\\n            \"cols\": dataframe_columns(var),\\n            \"dtypesStr\": dtypes_str(var),\\n        }\\n        for var in values if is_data_frame(var)\\n    ]\\n    result = {\"dataframes\": dataframes, \"user\": user}\\n    return json.dumps(result, ensure_ascii=False)\\n\\n\\nget_dataframes()', 'math.sin(2)', 'import json\\nimport getpass\\nimport hashlib\\n\\ndef import_pandas_safely():\\n    try:\\n        return __import__(\\'pandas\\')\\n    except ImportError:\\n        return False\\n\\n\\n__pandas = import_pandas_safely()\\n\\n\\ndef is_data_frame(v: str):\\n    obj = eval(v)\\n    if  isinstance(obj, __pandas.core.frame.DataFrame) or isinstance(obj, __pandas.core.series.Series):\\n        return True\\n\\n\\ndef dataframe_columns(var):\\n    df = eval(var)\\n    if isinstance(df, __pandas.core.series.Series):\\n        return [[df.name, str(df.dtype)]]\\n    return list(map(lambda col: [col, str(df[col].dtype)], df.columns))\\n\\n\\ndef dtypes_str(frame):\\n    return str(eval(frame).dtypes)\\n\\ndef dataframe_hash(var):\\n    # Return a hash including the column names and number of rows\\n    df = eval(var)\\n    if isinstance(df, __pandas.core.series.Series):\\n        return hashlib.sha256(f\"{var}-{df.name},{len(df)}\".encode(\\'utf-8\\')).hexdigest()\\n    return hashlib.sha256(f\"{var}-{\\',\\'.join(df.columns)},{len(df)}\".encode(\\'utf-8\\')).hexdigest()\\n\\ndef get_dataframes():\\n    if __pandas is None:\\n        return []\\n    user = getpass.getuser()\\n    values = get_ipython().run_line_magic(\\'who_ls\\', \\'\\')\\n    dataframes = [\\n        {\\n            \"name\": var,\\n            \"type\": type(eval(var)).__name__,\\n            \"hash\": dataframe_hash(var),\\n            \"cols\": dataframe_columns(var),\\n            \"dtypesStr\": dtypes_str(var),\\n        }\\n        for var in values if is_data_frame(var)\\n    ]\\n    result = {\"dataframes\": dataframes, \"user\": user}\\n    return json.dumps(result, ensure_ascii=False)\\n\\n\\nget_dataframes()', 'math.cos(2)', 'import json\\nimport getpass\\nimport hashlib\\n\\ndef import_pandas_safely():\\n    try:\\n        return __import__(\\'pandas\\')\\n    except ImportError:\\n        return False\\n\\n\\n__pandas = import_pandas_safely()\\n\\n\\ndef is_data_frame(v: str):\\n    obj = eval(v)\\n    if  isinstance(obj, __pandas.core.frame.DataFrame) or isinstance(obj, __pandas.core.series.Series):\\n        return True\\n\\n\\ndef dataframe_columns(var):\\n    df = eval(var)\\n    if isinstance(df, __pandas.core.series.Series):\\n        return [[df.name, str(df.dtype)]]\\n    return list(map(lambda col: [col, str(df[col].dtype)], df.columns))\\n\\n\\ndef dtypes_str(frame):\\n    return str(eval(frame).dtypes)\\n\\ndef dataframe_hash(var):\\n    # Return a hash including the column names and number of rows\\n    df = eval(var)\\n    if isinstance(df, __pandas.core.series.Series):\\n        return hashlib.sha256(f\"{var}-{df.name},{len(df)}\".encode(\\'utf-8\\')).hexdigest()\\n    return hashlib.sha256(f\"{var}-{\\',\\'.join(df.columns)},{len(df)}\".encode(\\'utf-8\\')).hexdigest()\\n\\ndef get_dataframes():\\n    if __pandas is None:\\n        return []\\n    user = getpass.getuser()\\n    values = get_ipython().run_line_magic(\\'who_ls\\', \\'\\')\\n    dataframes = [\\n        {\\n            \"name\": var,\\n            \"type\": type(eval(var)).__name__,\\n            \"hash\": dataframe_hash(var),\\n            \"cols\": dataframe_columns(var),\\n            \"dtypesStr\": dtypes_str(var),\\n        }\\n        for var in values if is_data_frame(var)\\n    ]\\n    result = {\"dataframes\": dataframes, \"user\": user}\\n    return json.dumps(result, ensure_ascii=False)\\n\\n\\nget_dataframes()', 'print(IN)', 'import json\\nimport getpass\\nimport hashlib\\n\\ndef import_pandas_safely():\\n    try:\\n        return __import__(\\'pandas\\')\\n    except ImportError:\\n        return False\\n\\n\\n__pandas = import_pandas_safely()\\n\\n\\ndef is_data_frame(v: str):\\n    obj = eval(v)\\n    if  isinstance(obj, __pandas.core.frame.DataFrame) or isinstance(obj, __pandas.core.series.Series):\\n        return True\\n\\n\\ndef dataframe_columns(var):\\n    df = eval(var)\\n    if isinstance(df, __pandas.core.series.Series):\\n        return [[df.name, str(df.dtype)]]\\n    return list(map(lambda col: [col, str(df[col].dtype)], df.columns))\\n\\n\\ndef dtypes_str(frame):\\n    return str(eval(frame).dtypes)\\n\\ndef dataframe_hash(var):\\n    # Return a hash including the column names and number of rows\\n    df = eval(var)\\n    if isinstance(df, __pandas.core.series.Series):\\n        return hashlib.sha256(f\"{var}-{df.name},{len(df)}\".encode(\\'utf-8\\')).hexdigest()\\n    return hashlib.sha256(f\"{var}-{\\',\\'.join(df.columns)},{len(df)}\".encode(\\'utf-8\\')).hexdigest()\\n\\ndef get_dataframes():\\n    if __pandas is None:\\n        return []\\n    user = getpass.getuser()\\n    values = get_ipython().run_line_magic(\\'who_ls\\', \\'\\')\\n    dataframes = [\\n        {\\n            \"name\": var,\\n            \"type\": type(eval(var)).__name__,\\n            \"hash\": dataframe_hash(var),\\n            \"cols\": dataframe_columns(var),\\n            \"dtypesStr\": dtypes_str(var),\\n        }\\n        for var in values if is_data_frame(var)\\n    ]\\n    result = {\"dataframes\": dataframes, \"user\": user}\\n    return json.dumps(result, ensure_ascii=False)\\n\\n\\nget_dataframes()', 'print(In)']\n"
     ]
    }
   ],
   "source": [
    "print(In)"
   ]
  },
  {
   "cell_type": "code",
   "execution_count": 40,
   "id": "16e46ae2-1b20-43e8-9048-676b31c72d88",
   "metadata": {},
   "outputs": [
    {
     "name": "stdout",
     "output_type": "stream",
     "text": [
      "['', 'L.<TAB>', 'import json\\nimport getpass\\nimport hashlib\\n\\ndef import_pandas_safely():\\n    try:\\n        return __import__(\\'pandas\\')\\n    except ImportError:\\n        return False\\n\\n\\n__pandas = import_pandas_safely()\\n\\n\\ndef is_data_frame(v: str):\\n    obj = eval(v)\\n    if  isinstance(obj, __pandas.core.frame.DataFrame) or isinstance(obj, __pandas.core.series.Series):\\n        return True\\n\\n\\ndef dataframe_columns(var):\\n    df = eval(var)\\n    if isinstance(df, __pandas.core.series.Series):\\n        return [[df.name, str(df.dtype)]]\\n    return list(map(lambda col: [col, str(df[col].dtype)], df.columns))\\n\\n\\ndef dtypes_str(frame):\\n    return str(eval(frame).dtypes)\\n\\ndef dataframe_hash(var):\\n    # Return a hash including the column names and number of rows\\n    df = eval(var)\\n    if isinstance(df, __pandas.core.series.Series):\\n        return hashlib.sha256(f\"{var}-{df.name},{len(df)}\".encode(\\'utf-8\\')).hexdigest()\\n    return hashlib.sha256(f\"{var}-{\\',\\'.join(df.columns)},{len(df)}\".encode(\\'utf-8\\')).hexdigest()\\n\\ndef get_dataframes():\\n    if __pandas is None:\\n        return []\\n    user = getpass.getuser()\\n    values = get_ipython().run_line_magic(\\'who_ls\\', \\'\\')\\n    dataframes = [\\n        {\\n            \"name\": var,\\n            \"type\": type(eval(var)).__name__,\\n            \"hash\": dataframe_hash(var),\\n            \"cols\": dataframe_columns(var),\\n            \"dtypesStr\": dtypes_str(var),\\n        }\\n        for var in values if is_data_frame(var)\\n    ]\\n    result = {\"dataframes\": dataframes, \"user\": user}\\n    return json.dumps(result, ensure_ascii=False)\\n\\n\\nget_dataframes()', 'L=[1, 2, 3]', 'import json\\nimport getpass\\nimport hashlib\\n\\ndef import_pandas_safely():\\n    try:\\n        return __import__(\\'pandas\\')\\n    except ImportError:\\n        return False\\n\\n\\n__pandas = import_pandas_safely()\\n\\n\\ndef is_data_frame(v: str):\\n    obj = eval(v)\\n    if  isinstance(obj, __pandas.core.frame.DataFrame) or isinstance(obj, __pandas.core.series.Series):\\n        return True\\n\\n\\ndef dataframe_columns(var):\\n    df = eval(var)\\n    if isinstance(df, __pandas.core.series.Series):\\n        return [[df.name, str(df.dtype)]]\\n    return list(map(lambda col: [col, str(df[col].dtype)], df.columns))\\n\\n\\ndef dtypes_str(frame):\\n    return str(eval(frame).dtypes)\\n\\ndef dataframe_hash(var):\\n    # Return a hash including the column names and number of rows\\n    df = eval(var)\\n    if isinstance(df, __pandas.core.series.Series):\\n        return hashlib.sha256(f\"{var}-{df.name},{len(df)}\".encode(\\'utf-8\\')).hexdigest()\\n    return hashlib.sha256(f\"{var}-{\\',\\'.join(df.columns)},{len(df)}\".encode(\\'utf-8\\')).hexdigest()\\n\\ndef get_dataframes():\\n    if __pandas is None:\\n        return []\\n    user = getpass.getuser()\\n    values = get_ipython().run_line_magic(\\'who_ls\\', \\'\\')\\n    dataframes = [\\n        {\\n            \"name\": var,\\n            \"type\": type(eval(var)).__name__,\\n            \"hash\": dataframe_hash(var),\\n            \"cols\": dataframe_columns(var),\\n            \"dtypesStr\": dtypes_str(var),\\n        }\\n        for var in values if is_data_frame(var)\\n    ]\\n    result = {\"dataframes\": dataframes, \"user\": user}\\n    return json.dumps(result, ensure_ascii=False)\\n\\n\\nget_dataframes()', 'L.<TAB>', 'import json\\nimport getpass\\nimport hashlib\\n\\ndef import_pandas_safely():\\n    try:\\n        return __import__(\\'pandas\\')\\n    except ImportError:\\n        return False\\n\\n\\n__pandas = import_pandas_safely()\\n\\n\\ndef is_data_frame(v: str):\\n    obj = eval(v)\\n    if  isinstance(obj, __pandas.core.frame.DataFrame) or isinstance(obj, __pandas.core.series.Series):\\n        return True\\n\\n\\ndef dataframe_columns(var):\\n    df = eval(var)\\n    if isinstance(df, __pandas.core.series.Series):\\n        return [[df.name, str(df.dtype)]]\\n    return list(map(lambda col: [col, str(df[col].dtype)], df.columns))\\n\\n\\ndef dtypes_str(frame):\\n    return str(eval(frame).dtypes)\\n\\ndef dataframe_hash(var):\\n    # Return a hash including the column names and number of rows\\n    df = eval(var)\\n    if isinstance(df, __pandas.core.series.Series):\\n        return hashlib.sha256(f\"{var}-{df.name},{len(df)}\".encode(\\'utf-8\\')).hexdigest()\\n    return hashlib.sha256(f\"{var}-{\\',\\'.join(df.columns)},{len(df)}\".encode(\\'utf-8\\')).hexdigest()\\n\\ndef get_dataframes():\\n    if __pandas is None:\\n        return []\\n    user = getpass.getuser()\\n    values = get_ipython().run_line_magic(\\'who_ls\\', \\'\\')\\n    dataframes = [\\n        {\\n            \"name\": var,\\n            \"type\": type(eval(var)).__name__,\\n            \"hash\": dataframe_hash(var),\\n            \"cols\": dataframe_columns(var),\\n            \"dtypesStr\": dtypes_str(var),\\n        }\\n        for var in values if is_data_frame(var)\\n    ]\\n    result = {\"dataframes\": dataframes, \"user\": user}\\n    return json.dumps(result, ensure_ascii=False)\\n\\n\\nget_dataframes()', '*Warning', 'import json\\nimport getpass\\nimport hashlib\\n\\ndef import_pandas_safely():\\n    try:\\n        return __import__(\\'pandas\\')\\n    except ImportError:\\n        return False\\n\\n\\n__pandas = import_pandas_safely()\\n\\n\\ndef is_data_frame(v: str):\\n    obj = eval(v)\\n    if  isinstance(obj, __pandas.core.frame.DataFrame) or isinstance(obj, __pandas.core.series.Series):\\n        return True\\n\\n\\ndef dataframe_columns(var):\\n    df = eval(var)\\n    if isinstance(df, __pandas.core.series.Series):\\n        return [[df.name, str(df.dtype)]]\\n    return list(map(lambda col: [col, str(df[col].dtype)], df.columns))\\n\\n\\ndef dtypes_str(frame):\\n    return str(eval(frame).dtypes)\\n\\ndef dataframe_hash(var):\\n    # Return a hash including the column names and number of rows\\n    df = eval(var)\\n    if isinstance(df, __pandas.core.series.Series):\\n        return hashlib.sha256(f\"{var}-{df.name},{len(df)}\".encode(\\'utf-8\\')).hexdigest()\\n    return hashlib.sha256(f\"{var}-{\\',\\'.join(df.columns)},{len(df)}\".encode(\\'utf-8\\')).hexdigest()\\n\\ndef get_dataframes():\\n    if __pandas is None:\\n        return []\\n    user = getpass.getuser()\\n    values = get_ipython().run_line_magic(\\'who_ls\\', \\'\\')\\n    dataframes = [\\n        {\\n            \"name\": var,\\n            \"type\": type(eval(var)).__name__,\\n            \"hash\": dataframe_hash(var),\\n            \"cols\": dataframe_columns(var),\\n            \"dtypesStr\": dtypes_str(var),\\n        }\\n        for var in values if is_data_frame(var)\\n    ]\\n    result = {\"dataframes\": dataframes, \"user\": user}\\n    return json.dumps(result, ensure_ascii=False)\\n\\n\\nget_dataframes()', \"get_ipython().run_line_magic('psearch', '*Warning')\", 'import json\\nimport getpass\\nimport hashlib\\n\\ndef import_pandas_safely():\\n    try:\\n        return __import__(\\'pandas\\')\\n    except ImportError:\\n        return False\\n\\n\\n__pandas = import_pandas_safely()\\n\\n\\ndef is_data_frame(v: str):\\n    obj = eval(v)\\n    if  isinstance(obj, __pandas.core.frame.DataFrame) or isinstance(obj, __pandas.core.series.Series):\\n        return True\\n\\n\\ndef dataframe_columns(var):\\n    df = eval(var)\\n    if isinstance(df, __pandas.core.series.Series):\\n        return [[df.name, str(df.dtype)]]\\n    return list(map(lambda col: [col, str(df[col].dtype)], df.columns))\\n\\n\\ndef dtypes_str(frame):\\n    return str(eval(frame).dtypes)\\n\\ndef dataframe_hash(var):\\n    # Return a hash including the column names and number of rows\\n    df = eval(var)\\n    if isinstance(df, __pandas.core.series.Series):\\n        return hashlib.sha256(f\"{var}-{df.name},{len(df)}\".encode(\\'utf-8\\')).hexdigest()\\n    return hashlib.sha256(f\"{var}-{\\',\\'.join(df.columns)},{len(df)}\".encode(\\'utf-8\\')).hexdigest()\\n\\ndef get_dataframes():\\n    if __pandas is None:\\n        return []\\n    user = getpass.getuser()\\n    values = get_ipython().run_line_magic(\\'who_ls\\', \\'\\')\\n    dataframes = [\\n        {\\n            \"name\": var,\\n            \"type\": type(eval(var)).__name__,\\n            \"hash\": dataframe_hash(var),\\n            \"cols\": dataframe_columns(var),\\n            \"dtypesStr\": dtypes_str(var),\\n        }\\n        for var in values if is_data_frame(var)\\n    ]\\n    result = {\"dataframes\": dataframes, \"user\": user}\\n    return json.dumps(result, ensure_ascii=False)\\n\\n\\nget_dataframes()', 'import json\\nimport getpass\\nimport hashlib\\n\\ndef import_pandas_safely():\\n    try:\\n        return __import__(\\'pandas\\')\\n    except ImportError:\\n        return False\\n\\n\\n__pandas = import_pandas_safely()\\n\\n\\ndef is_data_frame(v: str):\\n    obj = eval(v)\\n    if  isinstance(obj, __pandas.core.frame.DataFrame) or isinstance(obj, __pandas.core.series.Series):\\n        return True\\n\\n\\ndef dataframe_columns(var):\\n    df = eval(var)\\n    if isinstance(df, __pandas.core.series.Series):\\n        return [[df.name, str(df.dtype)]]\\n    return list(map(lambda col: [col, str(df[col].dtype)], df.columns))\\n\\n\\ndef dtypes_str(frame):\\n    return str(eval(frame).dtypes)\\n\\ndef dataframe_hash(var):\\n    # Return a hash including the column names and number of rows\\n    df = eval(var)\\n    if isinstance(df, __pandas.core.series.Series):\\n        return hashlib.sha256(f\"{var}-{df.name},{len(df)}\".encode(\\'utf-8\\')).hexdigest()\\n    return hashlib.sha256(f\"{var}-{\\',\\'.join(df.columns)},{len(df)}\".encode(\\'utf-8\\')).hexdigest()\\n\\ndef get_dataframes():\\n    if __pandas is None:\\n        return []\\n    user = getpass.getuser()\\n    values = get_ipython().run_line_magic(\\'who_ls\\', \\'\\')\\n    dataframes = [\\n        {\\n            \"name\": var,\\n            \"type\": type(eval(var)).__name__,\\n            \"hash\": dataframe_hash(var),\\n            \"cols\": dataframe_columns(var),\\n            \"dtypesStr\": dtypes_str(var),\\n        }\\n        for var in values if is_data_frame(var)\\n    ]\\n    result = {\"dataframes\": dataframes, \"user\": user}\\n    return json.dumps(result, ensure_ascii=False)\\n\\n\\nget_dataframes()', 'import json\\nimport getpass\\nimport hashlib\\n\\ndef import_pandas_safely():\\n    try:\\n        return __import__(\\'pandas\\')\\n    except ImportError:\\n        return False\\n\\n\\n__pandas = import_pandas_safely()\\n\\n\\ndef is_data_frame(v: str):\\n    obj = eval(v)\\n    if  isinstance(obj, __pandas.core.frame.DataFrame) or isinstance(obj, __pandas.core.series.Series):\\n        return True\\n\\n\\ndef dataframe_columns(var):\\n    df = eval(var)\\n    if isinstance(df, __pandas.core.series.Series):\\n        return [[df.name, str(df.dtype)]]\\n    return list(map(lambda col: [col, str(df[col].dtype)], df.columns))\\n\\n\\ndef dtypes_str(frame):\\n    return str(eval(frame).dtypes)\\n\\ndef dataframe_hash(var):\\n    # Return a hash including the column names and number of rows\\n    df = eval(var)\\n    if isinstance(df, __pandas.core.series.Series):\\n        return hashlib.sha256(f\"{var}-{df.name},{len(df)}\".encode(\\'utf-8\\')).hexdigest()\\n    return hashlib.sha256(f\"{var}-{\\',\\'.join(df.columns)},{len(df)}\".encode(\\'utf-8\\')).hexdigest()\\n\\ndef get_dataframes():\\n    if __pandas is None:\\n        return []\\n    user = getpass.getuser()\\n    values = get_ipython().run_line_magic(\\'who_ls\\', \\'\\')\\n    dataframes = [\\n        {\\n            \"name\": var,\\n            \"type\": type(eval(var)).__name__,\\n            \"hash\": dataframe_hash(var),\\n            \"cols\": dataframe_columns(var),\\n            \"dtypesStr\": dtypes_str(var),\\n        }\\n        for var in values if is_data_frame(var)\\n    ]\\n    result = {\"dataframes\": dataframes, \"user\": user}\\n    return json.dumps(result, ensure_ascii=False)\\n\\n\\nget_dataframes()', 'I-search backward:', 'import json\\nimport getpass\\nimport hashlib\\n\\ndef import_pandas_safely():\\n    try:\\n        return __import__(\\'pandas\\')\\n    except ImportError:\\n        return False\\n\\n\\n__pandas = import_pandas_safely()\\n\\n\\ndef is_data_frame(v: str):\\n    obj = eval(v)\\n    if  isinstance(obj, __pandas.core.frame.DataFrame) or isinstance(obj, __pandas.core.series.Series):\\n        return True\\n\\n\\ndef dataframe_columns(var):\\n    df = eval(var)\\n    if isinstance(df, __pandas.core.series.Series):\\n        return [[df.name, str(df.dtype)]]\\n    return list(map(lambda col: [col, str(df[col].dtype)], df.columns))\\n\\n\\ndef dtypes_str(frame):\\n    return str(eval(frame).dtypes)\\n\\ndef dataframe_hash(var):\\n    # Return a hash including the column names and number of rows\\n    df = eval(var)\\n    if isinstance(df, __pandas.core.series.Series):\\n        return hashlib.sha256(f\"{var}-{df.name},{len(df)}\".encode(\\'utf-8\\')).hexdigest()\\n    return hashlib.sha256(f\"{var}-{\\',\\'.join(df.columns)},{len(df)}\".encode(\\'utf-8\\')).hexdigest()\\n\\ndef get_dataframes():\\n    if __pandas is None:\\n        return []\\n    user = getpass.getuser()\\n    values = get_ipython().run_line_magic(\\'who_ls\\', \\'\\')\\n    dataframes = [\\n        {\\n            \"name\": var,\\n            \"type\": type(eval(var)).__name__,\\n            \"hash\": dataframe_hash(var),\\n            \"cols\": dataframe_columns(var),\\n            \"dtypesStr\": dtypes_str(var),\\n        }\\n        for var in values if is_data_frame(var)\\n    ]\\n    result = {\"dataframes\": dataframes, \"user\": user}\\n    return json.dumps(result, ensure_ascii=False)\\n\\n\\nget_dataframes()', 'import json\\nimport getpass\\nimport hashlib\\n\\ndef import_pandas_safely():\\n    try:\\n        return __import__(\\'pandas\\')\\n    except ImportError:\\n        return False\\n\\n\\n__pandas = import_pandas_safely()\\n\\n\\ndef is_data_frame(v: str):\\n    obj = eval(v)\\n    if  isinstance(obj, __pandas.core.frame.DataFrame) or isinstance(obj, __pandas.core.series.Series):\\n        return True\\n\\n\\ndef dataframe_columns(var):\\n    df = eval(var)\\n    if isinstance(df, __pandas.core.series.Series):\\n        return [[df.name, str(df.dtype)]]\\n    return list(map(lambda col: [col, str(df[col].dtype)], df.columns))\\n\\n\\ndef dtypes_str(frame):\\n    return str(eval(frame).dtypes)\\n\\ndef dataframe_hash(var):\\n    # Return a hash including the column names and number of rows\\n    df = eval(var)\\n    if isinstance(df, __pandas.core.series.Series):\\n        return hashlib.sha256(f\"{var}-{df.name},{len(df)}\".encode(\\'utf-8\\')).hexdigest()\\n    return hashlib.sha256(f\"{var}-{\\',\\'.join(df.columns)},{len(df)}\".encode(\\'utf-8\\')).hexdigest()\\n\\ndef get_dataframes():\\n    if __pandas is None:\\n        return []\\n    user = getpass.getuser()\\n    values = get_ipython().run_line_magic(\\'who_ls\\', \\'\\')\\n    dataframes = [\\n        {\\n            \"name\": var,\\n            \"type\": type(eval(var)).__name__,\\n            \"hash\": dataframe_hash(var),\\n            \"cols\": dataframe_columns(var),\\n            \"dtypesStr\": dtypes_str(var),\\n        }\\n        for var in values if is_data_frame(var)\\n    ]\\n    result = {\"dataframes\": dataframes, \"user\": user}\\n    return json.dumps(result, ensure_ascii=False)\\n\\n\\nget_dataframes()', \"get_ipython().run_line_magic('run', 'myscript.py')\", 'import json\\nimport getpass\\nimport hashlib\\n\\ndef import_pandas_safely():\\n    try:\\n        return __import__(\\'pandas\\')\\n    except ImportError:\\n        return False\\n\\n\\n__pandas = import_pandas_safely()\\n\\n\\ndef is_data_frame(v: str):\\n    obj = eval(v)\\n    if  isinstance(obj, __pandas.core.frame.DataFrame) or isinstance(obj, __pandas.core.series.Series):\\n        return True\\n\\n\\ndef dataframe_columns(var):\\n    df = eval(var)\\n    if isinstance(df, __pandas.core.series.Series):\\n        return [[df.name, str(df.dtype)]]\\n    return list(map(lambda col: [col, str(df[col].dtype)], df.columns))\\n\\n\\ndef dtypes_str(frame):\\n    return str(eval(frame).dtypes)\\n\\ndef dataframe_hash(var):\\n    # Return a hash including the column names and number of rows\\n    df = eval(var)\\n    if isinstance(df, __pandas.core.series.Series):\\n        return hashlib.sha256(f\"{var}-{df.name},{len(df)}\".encode(\\'utf-8\\')).hexdigest()\\n    return hashlib.sha256(f\"{var}-{\\',\\'.join(df.columns)},{len(df)}\".encode(\\'utf-8\\')).hexdigest()\\n\\ndef get_dataframes():\\n    if __pandas is None:\\n        return []\\n    user = getpass.getuser()\\n    values = get_ipython().run_line_magic(\\'who_ls\\', \\'\\')\\n    dataframes = [\\n        {\\n            \"name\": var,\\n            \"type\": type(eval(var)).__name__,\\n            \"hash\": dataframe_hash(var),\\n            \"cols\": dataframe_columns(var),\\n            \"dtypesStr\": dtypes_str(var),\\n        }\\n        for var in values if is_data_frame(var)\\n    ]\\n    result = {\"dataframes\": dataframes, \"user\": user}\\n    return json.dumps(result, ensure_ascii=False)\\n\\n\\nget_dataframes()', \"get_ipython().run_line_magic('run', 'myscript.py')\", 'import json\\nimport getpass\\nimport hashlib\\n\\ndef import_pandas_safely():\\n    try:\\n        return __import__(\\'pandas\\')\\n    except ImportError:\\n        return False\\n\\n\\n__pandas = import_pandas_safely()\\n\\n\\ndef is_data_frame(v: str):\\n    obj = eval(v)\\n    if  isinstance(obj, __pandas.core.frame.DataFrame) or isinstance(obj, __pandas.core.series.Series):\\n        return True\\n\\n\\ndef dataframe_columns(var):\\n    df = eval(var)\\n    if isinstance(df, __pandas.core.series.Series):\\n        return [[df.name, str(df.dtype)]]\\n    return list(map(lambda col: [col, str(df[col].dtype)], df.columns))\\n\\n\\ndef dtypes_str(frame):\\n    return str(eval(frame).dtypes)\\n\\ndef dataframe_hash(var):\\n    # Return a hash including the column names and number of rows\\n    df = eval(var)\\n    if isinstance(df, __pandas.core.series.Series):\\n        return hashlib.sha256(f\"{var}-{df.name},{len(df)}\".encode(\\'utf-8\\')).hexdigest()\\n    return hashlib.sha256(f\"{var}-{\\',\\'.join(df.columns)},{len(df)}\".encode(\\'utf-8\\')).hexdigest()\\n\\ndef get_dataframes():\\n    if __pandas is None:\\n        return []\\n    user = getpass.getuser()\\n    values = get_ipython().run_line_magic(\\'who_ls\\', \\'\\')\\n    dataframes = [\\n        {\\n            \"name\": var,\\n            \"type\": type(eval(var)).__name__,\\n            \"hash\": dataframe_hash(var),\\n            \"cols\": dataframe_columns(var),\\n            \"dtypesStr\": dtypes_str(var),\\n        }\\n        for var in values if is_data_frame(var)\\n    ]\\n    result = {\"dataframes\": dataframes, \"user\": user}\\n    return json.dumps(result, ensure_ascii=False)\\n\\n\\nget_dataframes()', \"get_ipython().run_line_magic('run', 'myscript.py')\", 'import json\\nimport getpass\\nimport hashlib\\n\\ndef import_pandas_safely():\\n    try:\\n        return __import__(\\'pandas\\')\\n    except ImportError:\\n        return False\\n\\n\\n__pandas = import_pandas_safely()\\n\\n\\ndef is_data_frame(v: str):\\n    obj = eval(v)\\n    if  isinstance(obj, __pandas.core.frame.DataFrame) or isinstance(obj, __pandas.core.series.Series):\\n        return True\\n\\n\\ndef dataframe_columns(var):\\n    df = eval(var)\\n    if isinstance(df, __pandas.core.series.Series):\\n        return [[df.name, str(df.dtype)]]\\n    return list(map(lambda col: [col, str(df[col].dtype)], df.columns))\\n\\n\\ndef dtypes_str(frame):\\n    return str(eval(frame).dtypes)\\n\\ndef dataframe_hash(var):\\n    # Return a hash including the column names and number of rows\\n    df = eval(var)\\n    if isinstance(df, __pandas.core.series.Series):\\n        return hashlib.sha256(f\"{var}-{df.name},{len(df)}\".encode(\\'utf-8\\')).hexdigest()\\n    return hashlib.sha256(f\"{var}-{\\',\\'.join(df.columns)},{len(df)}\".encode(\\'utf-8\\')).hexdigest()\\n\\ndef get_dataframes():\\n    if __pandas is None:\\n        return []\\n    user = getpass.getuser()\\n    values = get_ipython().run_line_magic(\\'who_ls\\', \\'\\')\\n    dataframes = [\\n        {\\n            \"name\": var,\\n            \"type\": type(eval(var)).__name__,\\n            \"hash\": dataframe_hash(var),\\n            \"cols\": dataframe_columns(var),\\n            \"dtypesStr\": dtypes_str(var),\\n        }\\n        for var in values if is_data_frame(var)\\n    ]\\n    result = {\"dataframes\": dataframes, \"user\": user}\\n    return json.dumps(result, ensure_ascii=False)\\n\\n\\nget_dataframes()', 'import json\\nimport getpass\\nimport hashlib\\n\\ndef import_pandas_safely():\\n    try:\\n        return __import__(\\'pandas\\')\\n    except ImportError:\\n        return False\\n\\n\\n__pandas = import_pandas_safely()\\n\\n\\ndef is_data_frame(v: str):\\n    obj = eval(v)\\n    if  isinstance(obj, __pandas.core.frame.DataFrame) or isinstance(obj, __pandas.core.series.Series):\\n        return True\\n\\n\\ndef dataframe_columns(var):\\n    df = eval(var)\\n    if isinstance(df, __pandas.core.series.Series):\\n        return [[df.name, str(df.dtype)]]\\n    return list(map(lambda col: [col, str(df[col].dtype)], df.columns))\\n\\n\\ndef dtypes_str(frame):\\n    return str(eval(frame).dtypes)\\n\\ndef dataframe_hash(var):\\n    # Return a hash including the column names and number of rows\\n    df = eval(var)\\n    if isinstance(df, __pandas.core.series.Series):\\n        return hashlib.sha256(f\"{var}-{df.name},{len(df)}\".encode(\\'utf-8\\')).hexdigest()\\n    return hashlib.sha256(f\"{var}-{\\',\\'.join(df.columns)},{len(df)}\".encode(\\'utf-8\\')).hexdigest()\\n\\ndef get_dataframes():\\n    if __pandas is None:\\n        return []\\n    user = getpass.getuser()\\n    values = get_ipython().run_line_magic(\\'who_ls\\', \\'\\')\\n    dataframes = [\\n        {\\n            \"name\": var,\\n            \"type\": type(eval(var)).__name__,\\n            \"hash\": dataframe_hash(var),\\n            \"cols\": dataframe_columns(var),\\n            \"dtypesStr\": dtypes_str(var),\\n        }\\n        for var in values if is_data_frame(var)\\n    ]\\n    result = {\"dataframes\": dataframes, \"user\": user}\\n    return json.dumps(result, ensure_ascii=False)\\n\\n\\nget_dataframes()', 'import json\\nimport getpass\\nimport hashlib\\n\\ndef import_pandas_safely():\\n    try:\\n        return __import__(\\'pandas\\')\\n    except ImportError:\\n        return False\\n\\n\\n__pandas = import_pandas_safely()\\n\\n\\ndef is_data_frame(v: str):\\n    obj = eval(v)\\n    if  isinstance(obj, __pandas.core.frame.DataFrame) or isinstance(obj, __pandas.core.series.Series):\\n        return True\\n\\n\\ndef dataframe_columns(var):\\n    df = eval(var)\\n    if isinstance(df, __pandas.core.series.Series):\\n        return [[df.name, str(df.dtype)]]\\n    return list(map(lambda col: [col, str(df[col].dtype)], df.columns))\\n\\n\\ndef dtypes_str(frame):\\n    return str(eval(frame).dtypes)\\n\\ndef dataframe_hash(var):\\n    # Return a hash including the column names and number of rows\\n    df = eval(var)\\n    if isinstance(df, __pandas.core.series.Series):\\n        return hashlib.sha256(f\"{var}-{df.name},{len(df)}\".encode(\\'utf-8\\')).hexdigest()\\n    return hashlib.sha256(f\"{var}-{\\',\\'.join(df.columns)},{len(df)}\".encode(\\'utf-8\\')).hexdigest()\\n\\ndef get_dataframes():\\n    if __pandas is None:\\n        return []\\n    user = getpass.getuser()\\n    values = get_ipython().run_line_magic(\\'who_ls\\', \\'\\')\\n    dataframes = [\\n        {\\n            \"name\": var,\\n            \"type\": type(eval(var)).__name__,\\n            \"hash\": dataframe_hash(var),\\n            \"cols\": dataframe_columns(var),\\n            \"dtypesStr\": dtypes_str(var),\\n        }\\n        for var in values if is_data_frame(var)\\n    ]\\n    result = {\"dataframes\": dataframes, \"user\": user}\\n    return json.dumps(result, ensure_ascii=False)\\n\\n\\nget_dataframes()', \"get_ipython().run_line_magic('timeit', 'L = [n**2 for n in range(1000)]')\", 'import json\\nimport getpass\\nimport hashlib\\n\\ndef import_pandas_safely():\\n    try:\\n        return __import__(\\'pandas\\')\\n    except ImportError:\\n        return False\\n\\n\\n__pandas = import_pandas_safely()\\n\\n\\ndef is_data_frame(v: str):\\n    obj = eval(v)\\n    if  isinstance(obj, __pandas.core.frame.DataFrame) or isinstance(obj, __pandas.core.series.Series):\\n        return True\\n\\n\\ndef dataframe_columns(var):\\n    df = eval(var)\\n    if isinstance(df, __pandas.core.series.Series):\\n        return [[df.name, str(df.dtype)]]\\n    return list(map(lambda col: [col, str(df[col].dtype)], df.columns))\\n\\n\\ndef dtypes_str(frame):\\n    return str(eval(frame).dtypes)\\n\\ndef dataframe_hash(var):\\n    # Return a hash including the column names and number of rows\\n    df = eval(var)\\n    if isinstance(df, __pandas.core.series.Series):\\n        return hashlib.sha256(f\"{var}-{df.name},{len(df)}\".encode(\\'utf-8\\')).hexdigest()\\n    return hashlib.sha256(f\"{var}-{\\',\\'.join(df.columns)},{len(df)}\".encode(\\'utf-8\\')).hexdigest()\\n\\ndef get_dataframes():\\n    if __pandas is None:\\n        return []\\n    user = getpass.getuser()\\n    values = get_ipython().run_line_magic(\\'who_ls\\', \\'\\')\\n    dataframes = [\\n        {\\n            \"name\": var,\\n            \"type\": type(eval(var)).__name__,\\n            \"hash\": dataframe_hash(var),\\n            \"cols\": dataframe_columns(var),\\n            \"dtypesStr\": dtypes_str(var),\\n        }\\n        for var in values if is_data_frame(var)\\n    ]\\n    result = {\"dataframes\": dataframes, \"user\": user}\\n    return json.dumps(result, ensure_ascii=False)\\n\\n\\nget_dataframes()', \"get_ipython().run_cell_magic('', 'timeit', '    :L = []\\\\n    : for n in range(1000):\\\\n        L.append(n**2)\\\\n        \\\\n')\", 'import json\\nimport getpass\\nimport hashlib\\n\\ndef import_pandas_safely():\\n    try:\\n        return __import__(\\'pandas\\')\\n    except ImportError:\\n        return False\\n\\n\\n__pandas = import_pandas_safely()\\n\\n\\ndef is_data_frame(v: str):\\n    obj = eval(v)\\n    if  isinstance(obj, __pandas.core.frame.DataFrame) or isinstance(obj, __pandas.core.series.Series):\\n        return True\\n\\n\\ndef dataframe_columns(var):\\n    df = eval(var)\\n    if isinstance(df, __pandas.core.series.Series):\\n        return [[df.name, str(df.dtype)]]\\n    return list(map(lambda col: [col, str(df[col].dtype)], df.columns))\\n\\n\\ndef dtypes_str(frame):\\n    return str(eval(frame).dtypes)\\n\\ndef dataframe_hash(var):\\n    # Return a hash including the column names and number of rows\\n    df = eval(var)\\n    if isinstance(df, __pandas.core.series.Series):\\n        return hashlib.sha256(f\"{var}-{df.name},{len(df)}\".encode(\\'utf-8\\')).hexdigest()\\n    return hashlib.sha256(f\"{var}-{\\',\\'.join(df.columns)},{len(df)}\".encode(\\'utf-8\\')).hexdigest()\\n\\ndef get_dataframes():\\n    if __pandas is None:\\n        return []\\n    user = getpass.getuser()\\n    values = get_ipython().run_line_magic(\\'who_ls\\', \\'\\')\\n    dataframes = [\\n        {\\n            \"name\": var,\\n            \"type\": type(eval(var)).__name__,\\n            \"hash\": dataframe_hash(var),\\n            \"cols\": dataframe_columns(var),\\n            \"dtypesStr\": dtypes_str(var),\\n        }\\n        for var in values if is_data_frame(var)\\n    ]\\n    result = {\"dataframes\": dataframes, \"user\": user}\\n    return json.dumps(result, ensure_ascii=False)\\n\\n\\nget_dataframes()', \"get_ipython().run_cell_magic('timeit', '', 'L = []  # 콜론(:) 제거\\\\nfor n in range(1000):\\\\n    L.append(n**2)\\\\n')\", 'import json\\nimport getpass\\nimport hashlib\\n\\ndef import_pandas_safely():\\n    try:\\n        return __import__(\\'pandas\\')\\n    except ImportError:\\n        return False\\n\\n\\n__pandas = import_pandas_safely()\\n\\n\\ndef is_data_frame(v: str):\\n    obj = eval(v)\\n    if  isinstance(obj, __pandas.core.frame.DataFrame) or isinstance(obj, __pandas.core.series.Series):\\n        return True\\n\\n\\ndef dataframe_columns(var):\\n    df = eval(var)\\n    if isinstance(df, __pandas.core.series.Series):\\n        return [[df.name, str(df.dtype)]]\\n    return list(map(lambda col: [col, str(df[col].dtype)], df.columns))\\n\\n\\ndef dtypes_str(frame):\\n    return str(eval(frame).dtypes)\\n\\ndef dataframe_hash(var):\\n    # Return a hash including the column names and number of rows\\n    df = eval(var)\\n    if isinstance(df, __pandas.core.series.Series):\\n        return hashlib.sha256(f\"{var}-{df.name},{len(df)}\".encode(\\'utf-8\\')).hexdigest()\\n    return hashlib.sha256(f\"{var}-{\\',\\'.join(df.columns)},{len(df)}\".encode(\\'utf-8\\')).hexdigest()\\n\\ndef get_dataframes():\\n    if __pandas is None:\\n        return []\\n    user = getpass.getuser()\\n    values = get_ipython().run_line_magic(\\'who_ls\\', \\'\\')\\n    dataframes = [\\n        {\\n            \"name\": var,\\n            \"type\": type(eval(var)).__name__,\\n            \"hash\": dataframe_hash(var),\\n            \"cols\": dataframe_columns(var),\\n            \"dtypesStr\": dtypes_str(var),\\n        }\\n        for var in values if is_data_frame(var)\\n    ]\\n    result = {\"dataframes\": dataframes, \"user\": user}\\n    return json.dumps(result, ensure_ascii=False)\\n\\n\\nget_dataframes()', 'import math', 'import json\\nimport getpass\\nimport hashlib\\n\\ndef import_pandas_safely():\\n    try:\\n        return __import__(\\'pandas\\')\\n    except ImportError:\\n        return False\\n\\n\\n__pandas = import_pandas_safely()\\n\\n\\ndef is_data_frame(v: str):\\n    obj = eval(v)\\n    if  isinstance(obj, __pandas.core.frame.DataFrame) or isinstance(obj, __pandas.core.series.Series):\\n        return True\\n\\n\\ndef dataframe_columns(var):\\n    df = eval(var)\\n    if isinstance(df, __pandas.core.series.Series):\\n        return [[df.name, str(df.dtype)]]\\n    return list(map(lambda col: [col, str(df[col].dtype)], df.columns))\\n\\n\\ndef dtypes_str(frame):\\n    return str(eval(frame).dtypes)\\n\\ndef dataframe_hash(var):\\n    # Return a hash including the column names and number of rows\\n    df = eval(var)\\n    if isinstance(df, __pandas.core.series.Series):\\n        return hashlib.sha256(f\"{var}-{df.name},{len(df)}\".encode(\\'utf-8\\')).hexdigest()\\n    return hashlib.sha256(f\"{var}-{\\',\\'.join(df.columns)},{len(df)}\".encode(\\'utf-8\\')).hexdigest()\\n\\ndef get_dataframes():\\n    if __pandas is None:\\n        return []\\n    user = getpass.getuser()\\n    values = get_ipython().run_line_magic(\\'who_ls\\', \\'\\')\\n    dataframes = [\\n        {\\n            \"name\": var,\\n            \"type\": type(eval(var)).__name__,\\n            \"hash\": dataframe_hash(var),\\n            \"cols\": dataframe_columns(var),\\n            \"dtypesStr\": dtypes_str(var),\\n        }\\n        for var in values if is_data_frame(var)\\n    ]\\n    result = {\"dataframes\": dataframes, \"user\": user}\\n    return json.dumps(result, ensure_ascii=False)\\n\\n\\nget_dataframes()', 'math.sin(2)', 'import json\\nimport getpass\\nimport hashlib\\n\\ndef import_pandas_safely():\\n    try:\\n        return __import__(\\'pandas\\')\\n    except ImportError:\\n        return False\\n\\n\\n__pandas = import_pandas_safely()\\n\\n\\ndef is_data_frame(v: str):\\n    obj = eval(v)\\n    if  isinstance(obj, __pandas.core.frame.DataFrame) or isinstance(obj, __pandas.core.series.Series):\\n        return True\\n\\n\\ndef dataframe_columns(var):\\n    df = eval(var)\\n    if isinstance(df, __pandas.core.series.Series):\\n        return [[df.name, str(df.dtype)]]\\n    return list(map(lambda col: [col, str(df[col].dtype)], df.columns))\\n\\n\\ndef dtypes_str(frame):\\n    return str(eval(frame).dtypes)\\n\\ndef dataframe_hash(var):\\n    # Return a hash including the column names and number of rows\\n    df = eval(var)\\n    if isinstance(df, __pandas.core.series.Series):\\n        return hashlib.sha256(f\"{var}-{df.name},{len(df)}\".encode(\\'utf-8\\')).hexdigest()\\n    return hashlib.sha256(f\"{var}-{\\',\\'.join(df.columns)},{len(df)}\".encode(\\'utf-8\\')).hexdigest()\\n\\ndef get_dataframes():\\n    if __pandas is None:\\n        return []\\n    user = getpass.getuser()\\n    values = get_ipython().run_line_magic(\\'who_ls\\', \\'\\')\\n    dataframes = [\\n        {\\n            \"name\": var,\\n            \"type\": type(eval(var)).__name__,\\n            \"hash\": dataframe_hash(var),\\n            \"cols\": dataframe_columns(var),\\n            \"dtypesStr\": dtypes_str(var),\\n        }\\n        for var in values if is_data_frame(var)\\n    ]\\n    result = {\"dataframes\": dataframes, \"user\": user}\\n    return json.dumps(result, ensure_ascii=False)\\n\\n\\nget_dataframes()', 'math.cos(2)', 'import json\\nimport getpass\\nimport hashlib\\n\\ndef import_pandas_safely():\\n    try:\\n        return __import__(\\'pandas\\')\\n    except ImportError:\\n        return False\\n\\n\\n__pandas = import_pandas_safely()\\n\\n\\ndef is_data_frame(v: str):\\n    obj = eval(v)\\n    if  isinstance(obj, __pandas.core.frame.DataFrame) or isinstance(obj, __pandas.core.series.Series):\\n        return True\\n\\n\\ndef dataframe_columns(var):\\n    df = eval(var)\\n    if isinstance(df, __pandas.core.series.Series):\\n        return [[df.name, str(df.dtype)]]\\n    return list(map(lambda col: [col, str(df[col].dtype)], df.columns))\\n\\n\\ndef dtypes_str(frame):\\n    return str(eval(frame).dtypes)\\n\\ndef dataframe_hash(var):\\n    # Return a hash including the column names and number of rows\\n    df = eval(var)\\n    if isinstance(df, __pandas.core.series.Series):\\n        return hashlib.sha256(f\"{var}-{df.name},{len(df)}\".encode(\\'utf-8\\')).hexdigest()\\n    return hashlib.sha256(f\"{var}-{\\',\\'.join(df.columns)},{len(df)}\".encode(\\'utf-8\\')).hexdigest()\\n\\ndef get_dataframes():\\n    if __pandas is None:\\n        return []\\n    user = getpass.getuser()\\n    values = get_ipython().run_line_magic(\\'who_ls\\', \\'\\')\\n    dataframes = [\\n        {\\n            \"name\": var,\\n            \"type\": type(eval(var)).__name__,\\n            \"hash\": dataframe_hash(var),\\n            \"cols\": dataframe_columns(var),\\n            \"dtypesStr\": dtypes_str(var),\\n        }\\n        for var in values if is_data_frame(var)\\n    ]\\n    result = {\"dataframes\": dataframes, \"user\": user}\\n    return json.dumps(result, ensure_ascii=False)\\n\\n\\nget_dataframes()', 'print(IN)', 'import json\\nimport getpass\\nimport hashlib\\n\\ndef import_pandas_safely():\\n    try:\\n        return __import__(\\'pandas\\')\\n    except ImportError:\\n        return False\\n\\n\\n__pandas = import_pandas_safely()\\n\\n\\ndef is_data_frame(v: str):\\n    obj = eval(v)\\n    if  isinstance(obj, __pandas.core.frame.DataFrame) or isinstance(obj, __pandas.core.series.Series):\\n        return True\\n\\n\\ndef dataframe_columns(var):\\n    df = eval(var)\\n    if isinstance(df, __pandas.core.series.Series):\\n        return [[df.name, str(df.dtype)]]\\n    return list(map(lambda col: [col, str(df[col].dtype)], df.columns))\\n\\n\\ndef dtypes_str(frame):\\n    return str(eval(frame).dtypes)\\n\\ndef dataframe_hash(var):\\n    # Return a hash including the column names and number of rows\\n    df = eval(var)\\n    if isinstance(df, __pandas.core.series.Series):\\n        return hashlib.sha256(f\"{var}-{df.name},{len(df)}\".encode(\\'utf-8\\')).hexdigest()\\n    return hashlib.sha256(f\"{var}-{\\',\\'.join(df.columns)},{len(df)}\".encode(\\'utf-8\\')).hexdigest()\\n\\ndef get_dataframes():\\n    if __pandas is None:\\n        return []\\n    user = getpass.getuser()\\n    values = get_ipython().run_line_magic(\\'who_ls\\', \\'\\')\\n    dataframes = [\\n        {\\n            \"name\": var,\\n            \"type\": type(eval(var)).__name__,\\n            \"hash\": dataframe_hash(var),\\n            \"cols\": dataframe_columns(var),\\n            \"dtypesStr\": dtypes_str(var),\\n        }\\n        for var in values if is_data_frame(var)\\n    ]\\n    result = {\"dataframes\": dataframes, \"user\": user}\\n    return json.dumps(result, ensure_ascii=False)\\n\\n\\nget_dataframes()', 'print(In)', 'import json\\nimport getpass\\nimport hashlib\\n\\ndef import_pandas_safely():\\n    try:\\n        return __import__(\\'pandas\\')\\n    except ImportError:\\n        return False\\n\\n\\n__pandas = import_pandas_safely()\\n\\n\\ndef is_data_frame(v: str):\\n    obj = eval(v)\\n    if  isinstance(obj, __pandas.core.frame.DataFrame) or isinstance(obj, __pandas.core.series.Series):\\n        return True\\n\\n\\ndef dataframe_columns(var):\\n    df = eval(var)\\n    if isinstance(df, __pandas.core.series.Series):\\n        return [[df.name, str(df.dtype)]]\\n    return list(map(lambda col: [col, str(df[col].dtype)], df.columns))\\n\\n\\ndef dtypes_str(frame):\\n    return str(eval(frame).dtypes)\\n\\ndef dataframe_hash(var):\\n    # Return a hash including the column names and number of rows\\n    df = eval(var)\\n    if isinstance(df, __pandas.core.series.Series):\\n        return hashlib.sha256(f\"{var}-{df.name},{len(df)}\".encode(\\'utf-8\\')).hexdigest()\\n    return hashlib.sha256(f\"{var}-{\\',\\'.join(df.columns)},{len(df)}\".encode(\\'utf-8\\')).hexdigest()\\n\\ndef get_dataframes():\\n    if __pandas is None:\\n        return []\\n    user = getpass.getuser()\\n    values = get_ipython().run_line_magic(\\'who_ls\\', \\'\\')\\n    dataframes = [\\n        {\\n            \"name\": var,\\n            \"type\": type(eval(var)).__name__,\\n            \"hash\": dataframe_hash(var),\\n            \"cols\": dataframe_columns(var),\\n            \"dtypesStr\": dtypes_str(var),\\n        }\\n        for var in values if is_data_frame(var)\\n    ]\\n    result = {\"dataframes\": dataframes, \"user\": user}\\n    return json.dumps(result, ensure_ascii=False)\\n\\n\\nget_dataframes()', 'print(In)\\nimport math']\n"
     ]
    }
   ],
   "source": [
    "print(In)\n",
    "import math"
   ]
  },
  {
   "cell_type": "code",
   "execution_count": 42,
   "id": "b4a6fcf1-4875-42d4-88be-9d93bc0893dc",
   "metadata": {},
   "outputs": [
    {
     "name": "stdout",
     "output_type": "stream",
     "text": [
      "{\"dataframes\": [], \"user\": \"hwang\"}\n"
     ]
    }
   ],
   "source": [
    "print(Out[2])"
   ]
  },
  {
   "cell_type": "markdown",
   "id": "d863dc1f-2100-4b21-a3ea-7b682f034e38",
   "metadata": {},
   "source": [
    "# 밑줄 표시 단축키와 이전 출력값"
   ]
  },
  {
   "cell_type": "code",
   "execution_count": 44,
   "id": "a2ecdcb6-9e84-4b7d-b375-dcec15b869f2",
   "metadata": {},
   "outputs": [
    {
     "name": "stdout",
     "output_type": "stream",
     "text": [
      "{\"dataframes\": [], \"user\": \"hwang\"}\n"
     ]
    }
   ],
   "source": [
    "print(_)"
   ]
  },
  {
   "cell_type": "code",
   "execution_count": 46,
   "id": "e3a6cfdc-0599-45bd-8148-b668df0671fe",
   "metadata": {},
   "outputs": [
    {
     "name": "stdout",
     "output_type": "stream",
     "text": [
      "{\"dataframes\": [], \"user\": \"hwang\"}\n"
     ]
    }
   ],
   "source": [
    "print(__)"
   ]
  },
  {
   "cell_type": "markdown",
   "id": "73f3b8be-f02d-4e10-beaa-a5d16af1f7be",
   "metadata": {},
   "source": [
    "# 출력값 숨기기"
   ]
  },
  {
   "cell_type": "code",
   "execution_count": 50,
   "id": "859b0f71-5490-4118-8464-d15dbef2c588",
   "metadata": {},
   "outputs": [],
   "source": [
    "math.sin(2) + math.cos(2);"
   ]
  },
  {
   "cell_type": "markdown",
   "id": "bef182a3-bfbc-4231-a753-29e6f9010d47",
   "metadata": {},
   "source": [
    "# 디버깅 및 프로파일링"
   ]
  },
  {
   "cell_type": "markdown",
   "id": "e306d9c1-56db-49c1-8195-336878ba6bb5",
   "metadata": {},
   "source": [
    "## 예외 제어: %xmode"
   ]
  },
  {
   "cell_type": "code",
   "execution_count": 3,
   "id": "aa41fc00-230e-41eb-a19e-bf06d7d26f60",
   "metadata": {},
   "outputs": [],
   "source": [
    "def func1(a,b):\n",
    "    return a/b\n",
    "\n",
    "def func2(x):\n",
    "    a = x\n",
    "    b = x-1\n",
    "    return func1(a,b)"
   ]
  },
  {
   "cell_type": "code",
   "execution_count": 5,
   "id": "3dede4cb-cf6e-4d4e-9f06-1daac25a89fa",
   "metadata": {},
   "outputs": [
    {
     "ename": "ZeroDivisionError",
     "evalue": "division by zero",
     "output_type": "error",
     "traceback": [
      "\u001b[1;31m---------------------------------------------------------------------------\u001b[0m",
      "\u001b[1;31mZeroDivisionError\u001b[0m                         Traceback (most recent call last)",
      "Cell \u001b[1;32mIn[5], line 1\u001b[0m\n\u001b[1;32m----> 1\u001b[0m func2(\u001b[38;5;241m1\u001b[39m)\n",
      "Cell \u001b[1;32mIn[3], line 7\u001b[0m, in \u001b[0;36mfunc2\u001b[1;34m(x)\u001b[0m\n\u001b[0;32m      5\u001b[0m a \u001b[38;5;241m=\u001b[39m x\n\u001b[0;32m      6\u001b[0m b \u001b[38;5;241m=\u001b[39m x\u001b[38;5;241m-\u001b[39m\u001b[38;5;241m1\u001b[39m\n\u001b[1;32m----> 7\u001b[0m \u001b[38;5;28;01mreturn\u001b[39;00m func1(a,b)\n",
      "Cell \u001b[1;32mIn[3], line 2\u001b[0m, in \u001b[0;36mfunc1\u001b[1;34m(a, b)\u001b[0m\n\u001b[0;32m      1\u001b[0m \u001b[38;5;28;01mdef\u001b[39;00m \u001b[38;5;21mfunc1\u001b[39m(a,b):\n\u001b[1;32m----> 2\u001b[0m     \u001b[38;5;28;01mreturn\u001b[39;00m a\u001b[38;5;241m/\u001b[39mb\n",
      "\u001b[1;31mZeroDivisionError\u001b[0m: division by zero"
     ]
    }
   ],
   "source": [
    "func2(1)"
   ]
  },
  {
   "cell_type": "markdown",
   "id": "ce04bf3e-12b5-4e23-bd95-d8b7e614af7e",
   "metadata": {},
   "source": [
    "### %code는 단일 인수로 그 모드를 취하며, 모드의 값으로는 Plain, Context, Verbose를 받을 수 있다. 기본값은 Context이며 Plain은 좀 더 간결한 형태를 띠며 더 적은 정보를 제공한다. Verbose 모드는 호출된 함수의 인수를 포함한 추가적인 정보를 더 제공한다."
   ]
  },
  {
   "cell_type": "code",
   "execution_count": 62,
   "id": "e7f75cb3-ed1a-490d-9313-9c9e6fd5a626",
   "metadata": {},
   "outputs": [
    {
     "name": "stdout",
     "output_type": "stream",
     "text": [
      "Exception reporting mode: Plain\n"
     ]
    }
   ],
   "source": [
    "%xmode Plain "
   ]
  },
  {
   "cell_type": "code",
   "execution_count": 64,
   "id": "2d41dece-712d-4138-8b46-abc9ba6ffde1",
   "metadata": {},
   "outputs": [
    {
     "ename": "ZeroDivisionError",
     "evalue": "division by zero",
     "output_type": "error",
     "traceback": [
      "Traceback \u001b[1;36m(most recent call last)\u001b[0m:\n",
      "\u001b[0m  Cell \u001b[0;32mIn[64], line 1\u001b[0m\n    func2(1)\u001b[0m\n",
      "\u001b[0m  Cell \u001b[0;32mIn[57], line 7\u001b[0m in \u001b[0;35mfunc2\u001b[0m\n    return func1(a,b)\u001b[0m\n",
      "\u001b[1;36m  Cell \u001b[1;32mIn[57], line 2\u001b[1;36m in \u001b[1;35mfunc1\u001b[1;36m\n\u001b[1;33m    return a/b\u001b[1;36m\n",
      "\u001b[1;31mZeroDivisionError\u001b[0m\u001b[1;31m:\u001b[0m division by zero\n"
     ]
    }
   ],
   "source": [
    "func2(1)"
   ]
  },
  {
   "cell_type": "code",
   "execution_count": 67,
   "id": "4f80dbc5-db40-4122-94cd-15a002b7ecdb",
   "metadata": {},
   "outputs": [
    {
     "name": "stdout",
     "output_type": "stream",
     "text": [
      "Exception reporting mode: Verbose\n"
     ]
    }
   ],
   "source": [
    "%xmode Verbose"
   ]
  },
  {
   "cell_type": "code",
   "execution_count": 7,
   "id": "c61c0941-d79c-47a2-9a5f-7a40f78ed459",
   "metadata": {},
   "outputs": [
    {
     "ename": "ZeroDivisionError",
     "evalue": "division by zero",
     "output_type": "error",
     "traceback": [
      "\u001b[1;31m---------------------------------------------------------------------------\u001b[0m",
      "\u001b[1;31mZeroDivisionError\u001b[0m                         Traceback (most recent call last)",
      "Cell \u001b[1;32mIn[7], line 1\u001b[0m\n\u001b[1;32m----> 1\u001b[0m func2(\u001b[38;5;241m1\u001b[39m)\n",
      "Cell \u001b[1;32mIn[3], line 7\u001b[0m, in \u001b[0;36mfunc2\u001b[1;34m(x)\u001b[0m\n\u001b[0;32m      5\u001b[0m a \u001b[38;5;241m=\u001b[39m x\n\u001b[0;32m      6\u001b[0m b \u001b[38;5;241m=\u001b[39m x\u001b[38;5;241m-\u001b[39m\u001b[38;5;241m1\u001b[39m\n\u001b[1;32m----> 7\u001b[0m \u001b[38;5;28;01mreturn\u001b[39;00m func1(a,b)\n",
      "Cell \u001b[1;32mIn[3], line 2\u001b[0m, in \u001b[0;36mfunc1\u001b[1;34m(a, b)\u001b[0m\n\u001b[0;32m      1\u001b[0m \u001b[38;5;28;01mdef\u001b[39;00m \u001b[38;5;21mfunc1\u001b[39m(a,b):\n\u001b[1;32m----> 2\u001b[0m     \u001b[38;5;28;01mreturn\u001b[39;00m a\u001b[38;5;241m/\u001b[39mb\n",
      "\u001b[1;31mZeroDivisionError\u001b[0m: division by zero"
     ]
    }
   ],
   "source": [
    "func2(1)"
   ]
  },
  {
   "cell_type": "markdown",
   "id": "7c44ebd3-bf5c-4ac4-89ff-4130c5c6965c",
   "metadata": {},
   "source": [
    "### 예외를 만난 뒤 %debug 명령어를 호출하면 예외 발생 지점에 대화형 디버깅 프롬프트를 자동으로 연다"
   ]
  },
  {
   "cell_type": "code",
   "execution_count": 9,
   "id": "4b683c14-6a68-4bf2-968f-fe933ed6352c",
   "metadata": {},
   "outputs": [
    {
     "name": "stdout",
     "output_type": "stream",
     "text": [
      "> \u001b[1;32mc:\\users\\hwang\\appdata\\local\\temp\\ipykernel_2328\\1551793942.py\u001b[0m(2)\u001b[0;36mfunc1\u001b[1;34m()\u001b[0m\n",
      "\n"
     ]
    },
    {
     "name": "stdin",
     "output_type": "stream",
     "text": [
      "ipdb>  print(a)\n"
     ]
    },
    {
     "name": "stdout",
     "output_type": "stream",
     "text": [
      "1\n"
     ]
    },
    {
     "name": "stdin",
     "output_type": "stream",
     "text": [
      "ipdb>  print(b)\n"
     ]
    },
    {
     "name": "stdout",
     "output_type": "stream",
     "text": [
      "0\n"
     ]
    },
    {
     "name": "stdin",
     "output_type": "stream",
     "text": [
      "ipdb>  quit\n"
     ]
    }
   ],
   "source": [
    "%debug"
   ]
  },
  {
   "cell_type": "code",
   "execution_count": 11,
   "id": "b99b5d77-1c7b-4191-a2f2-48d03d74e166",
   "metadata": {},
   "outputs": [
    {
     "name": "stdout",
     "output_type": "stream",
     "text": [
      "> \u001b[1;32mc:\\users\\hwang\\appdata\\local\\temp\\ipykernel_2328\\1551793942.py\u001b[0m(2)\u001b[0;36mfunc1\u001b[1;34m()\u001b[0m\n",
      "\n"
     ]
    },
    {
     "name": "stdin",
     "output_type": "stream",
     "text": [
      "ipdb>  up\n"
     ]
    },
    {
     "name": "stdout",
     "output_type": "stream",
     "text": [
      "> \u001b[1;32mc:\\users\\hwang\\appdata\\local\\temp\\ipykernel_2328\\1551793942.py\u001b[0m(7)\u001b[0;36mfunc2\u001b[1;34m()\u001b[0m\n",
      "\n"
     ]
    },
    {
     "name": "stdin",
     "output_type": "stream",
     "text": [
      "ipdb>  print(x)\n"
     ]
    },
    {
     "name": "stdout",
     "output_type": "stream",
     "text": [
      "1\n"
     ]
    },
    {
     "name": "stdin",
     "output_type": "stream",
     "text": [
      "ipdb>  up\n"
     ]
    },
    {
     "name": "stdout",
     "output_type": "stream",
     "text": [
      "> \u001b[1;32mc:\\users\\hwang\\appdata\\local\\temp\\ipykernel_2328\\2483606204.py\u001b[0m(1)\u001b[0;36m<module>\u001b[1;34m()\u001b[0m\n",
      "\n"
     ]
    },
    {
     "name": "stdin",
     "output_type": "stream",
     "text": [
      "ipdb>  down\n"
     ]
    },
    {
     "name": "stdout",
     "output_type": "stream",
     "text": [
      "> \u001b[1;32mc:\\users\\hwang\\appdata\\local\\temp\\ipykernel_2328\\1551793942.py\u001b[0m(7)\u001b[0;36mfunc2\u001b[1;34m()\u001b[0m\n",
      "\n"
     ]
    },
    {
     "name": "stdin",
     "output_type": "stream",
     "text": [
      "ipdb>  quit\n"
     ]
    }
   ],
   "source": [
    "%debug"
   ]
  },
  {
   "cell_type": "markdown",
   "id": "323d0274-e5de-4c44-99f9-d347c005ad44",
   "metadata": {},
   "source": [
    "# 코드 조각의 실행 시간 측정하기"
   ]
  },
  {
   "cell_type": "code",
   "execution_count": 17,
   "id": "bc29a084-aff6-4565-9e25-1267f4265e0d",
   "metadata": {},
   "outputs": [
    {
     "name": "stdout",
     "output_type": "stream",
     "text": [
      "483 ns ± 5.78 ns per loop (mean ± std. dev. of 7 runs, 1,000,000 loops each)\n"
     ]
    }
   ],
   "source": [
    "%timeit sum (range(100))"
   ]
  },
  {
   "cell_type": "markdown",
   "id": "d6cdee74-f299-4568-a804-8caf1b6d21f1",
   "metadata": {},
   "source": [
    "# 전체 스크립트 프로파일링 하기\n",
    "\n",
    "### 전체맥락에서 문장들의 실행시간을 측정"
   ]
  },
  {
   "cell_type": "code",
   "execution_count": 22,
   "id": "5b3c45c3-eea4-4567-976b-fcd42c01f1b5",
   "metadata": {},
   "outputs": [],
   "source": [
    "def sum_of_lists(N):\n",
    "    total = 0\n",
    "    for i in range(5):\n",
    "        L = [j^(j >> i) for j in range(N)]\n",
    "        total += sum(L)\n",
    "        return total"
   ]
  },
  {
   "cell_type": "code",
   "execution_count": 26,
   "id": "1fda82d3-618d-407a-b57a-fe26b7dca5aa",
   "metadata": {},
   "outputs": [
    {
     "name": "stdout",
     "output_type": "stream",
     "text": [
      " "
     ]
    },
    {
     "data": {
      "text/plain": [
       "         5 function calls in 0.001 seconds\n",
       "\n",
       "   Ordered by: internal time\n",
       "\n",
       "   ncalls  tottime  percall  cumtime  percall filename:lineno(function)\n",
       "        1    0.001    0.001    0.001    0.001 3527708992.py:1(sum_of_lists)\n",
       "        1    0.000    0.000    0.000    0.000 {method 'disable' of '_lsprof.Profiler' objects}\n",
       "        1    0.000    0.000    0.000    0.000 {built-in method builtins.sum}\n",
       "        1    0.000    0.000    0.001    0.001 {built-in method builtins.exec}\n",
       "        1    0.000    0.000    0.001    0.001 <string>:1(<module>)"
      ]
     },
     "metadata": {},
     "output_type": "display_data"
    }
   ],
   "source": [
    "%prun sum_of_lists(10000)"
   ]
  },
  {
   "cell_type": "code",
   "execution_count": null,
   "id": "4db424ab-b876-4d36-b08f-0957ed00c85e",
   "metadata": {},
   "outputs": [],
   "source": []
  }
 ],
 "metadata": {
  "kernelspec": {
   "display_name": "Python [conda env:base] *",
   "language": "python",
   "name": "conda-base-py"
  },
  "language_info": {
   "codemirror_mode": {
    "name": "ipython",
    "version": 3
   },
   "file_extension": ".py",
   "mimetype": "text/x-python",
   "name": "python",
   "nbconvert_exporter": "python",
   "pygments_lexer": "ipython3",
   "version": "3.12.7"
  }
 },
 "nbformat": 4,
 "nbformat_minor": 5
}
