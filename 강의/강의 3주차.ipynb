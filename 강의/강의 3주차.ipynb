{
 "cells": [
  {
   "cell_type": "code",
   "execution_count": 4,
   "id": "b66cc991-7630-495d-be64-2225bf8c1f6e",
   "metadata": {},
   "outputs": [
    {
     "name": "stdout",
     "output_type": "stream",
     "text": [
      "[['\"Name\"' '     \"Sex\"' ' \"Age\"' ' \"Height (in)\"' ' \"Weight (lbs)\"']\n",
      " ['\"Alex\"' '       \"M\"' '   41' '       74' '      170']\n",
      " ['\"Bert\"' '       \"M\"' '   42' '       68' '      166']\n",
      " ['\"Carl\"' '       \"M\"' '   32' '       70' '      155']\n",
      " ['\"Dave\"' '       \"M\"' '   39' '       72' '      167']\n",
      " ['\"Elly\"' '       \"F\"' '   30' '       66' '      124']\n",
      " ['\"Fran\"' '       \"F\"' '   33' '       66' '      115']\n",
      " ['\"Gwen\"' '       \"F\"' '   26' '       64' '      121']\n",
      " ['\"Hank\"' '       \"M\"' '   30' '       71' '      158']\n",
      " ['\"Ivan\"' '       \"M\"' '   53' '       72' '      175']\n",
      " ['\"Jake\"' '       \"M\"' '   32' '       69' '      143']\n",
      " ['\"Kate\"' '       \"F\"' '   47' '       69' '      139']\n",
      " ['\"Luke\"' '       \"M\"' '   34' '       72' '      163']\n",
      " ['\"Myra\"' '       \"F\"' '   23' '       62' '       98']\n",
      " ['\"Neil\"' '       \"M\"' '   36' '       75' '      160']\n",
      " ['\"Omar\"' '       \"M\"' '   38' '       70' '      145']\n",
      " ['\"Page\"' '       \"F\"' '   31' '       67' '      135']\n",
      " ['\"Quin\"' '       \"M\"' '   29' '       71' '      176']\n",
      " ['\"Ruth\"' '       \"F\"' '   28' '       65' '      131']]\n"
     ]
    }
   ],
   "source": [
    "import numpy as np\n",
    "\n",
    "biostats = np.loadtxt(r'C:\\Users\\user\\work\\pdh\\강의\\3주_data\\biostats.csv', delimiter=',', dtype='str')\n",
    "\n",
    "print(biostats)\n"
   ]
  },
  {
   "cell_type": "code",
   "execution_count": 5,
   "id": "39d356bb-76d9-4212-adb5-1e2c7904bdf4",
   "metadata": {},
   "outputs": [
    {
     "data": {
      "text/plain": [
       "array([['\"Name\"', '     \"Sex\"', ' \"Age\"', ' \"Height (in)\"',\n",
       "        ' \"Weight (lbs)\"'],\n",
       "       ['\"Alex\"', '       \"M\"', '   41', '       74', '      170'],\n",
       "       ['\"Bert\"', '       \"M\"', '   42', '       68', '      166'],\n",
       "       ['\"Carl\"', '       \"M\"', '   32', '       70', '      155'],\n",
       "       ['\"Dave\"', '       \"M\"', '   39', '       72', '      167'],\n",
       "       ['\"Elly\"', '       \"F\"', '   30', '       66', '      124'],\n",
       "       ['\"Fran\"', '       \"F\"', '   33', '       66', '      115'],\n",
       "       ['\"Gwen\"', '       \"F\"', '   26', '       64', '      121'],\n",
       "       ['\"Hank\"', '       \"M\"', '   30', '       71', '      158'],\n",
       "       ['\"Ivan\"', '       \"M\"', '   53', '       72', '      175'],\n",
       "       ['\"Jake\"', '       \"M\"', '   32', '       69', '      143'],\n",
       "       ['\"Kate\"', '       \"F\"', '   47', '       69', '      139'],\n",
       "       ['\"Luke\"', '       \"M\"', '   34', '       72', '      163'],\n",
       "       ['\"Myra\"', '       \"F\"', '   23', '       62', '       98'],\n",
       "       ['\"Neil\"', '       \"M\"', '   36', '       75', '      160'],\n",
       "       ['\"Omar\"', '       \"M\"', '   38', '       70', '      145'],\n",
       "       ['\"Page\"', '       \"F\"', '   31', '       67', '      135'],\n",
       "       ['\"Quin\"', '       \"M\"', '   29', '       71', '      176'],\n",
       "       ['\"Ruth\"', '       \"F\"', '   28', '       65', '      131']],\n",
       "      dtype='<U15')"
      ]
     },
     "execution_count": 5,
     "metadata": {},
     "output_type": "execute_result"
    }
   ],
   "source": [
    "biostats"
   ]
  },
  {
   "cell_type": "code",
   "execution_count": 11,
   "id": "4b1ebc39-e9aa-431a-bf87-bd7da8b42bce",
   "metadata": {},
   "outputs": [
    {
     "name": "stdout",
     "output_type": "stream",
     "text": [
      "[[ 41  74 170]\n",
      " [ 42  68 166]\n",
      " [ 32  70 155]\n",
      " [ 39  72 167]\n",
      " [ 30  66 124]\n",
      " [ 33  66 115]\n",
      " [ 26  64 121]\n",
      " [ 30  71 158]\n",
      " [ 53  72 175]\n",
      " [ 32  69 143]\n",
      " [ 47  69 139]\n",
      " [ 34  72 163]\n",
      " [ 23  62  98]\n",
      " [ 36  75 160]\n",
      " [ 38  70 145]\n",
      " [ 31  67 135]\n",
      " [ 29  71 176]\n",
      " [ 28  65 131]]\n",
      "[41 42 32 39 30 33 26 30 53 32 47 34 23 36 38 31 29 28]\n",
      "23\n",
      "53\n",
      "34.666666666666664\n"
     ]
    }
   ],
   "source": [
    "biostats = np.loadtxt(r'C:\\Users\\user\\work\\pdh\\강의\\3주_data\\biostats.csv', skiprows=1, usecols=range(2, 5), delimiter=',', dtype=np.int32)\n",
    "\n",
    "print(biostats)\n",
    "biostats_age = biostats [:, 0]\n",
    "print(biostats_age)\n",
    "print(biostats_age.min())\n",
    "print(biostats_age.max())\n",
    "print(biostats_age.mean())"
   ]
  },
  {
   "cell_type": "code",
   "execution_count": null,
   "id": "b4ac807a-13da-49b4-9520-9935807dac04",
   "metadata": {},
   "outputs": [],
   "source": []
  }
 ],
 "metadata": {
  "kernelspec": {
   "display_name": "Python 3 (ipykernel)",
   "language": "python",
   "name": "python3"
  },
  "language_info": {
   "codemirror_mode": {
    "name": "ipython",
    "version": 3
   },
   "file_extension": ".py",
   "mimetype": "text/x-python",
   "name": "python",
   "nbconvert_exporter": "python",
   "pygments_lexer": "ipython3",
   "version": "3.11.7"
  }
 },
 "nbformat": 4,
 "nbformat_minor": 5
}
