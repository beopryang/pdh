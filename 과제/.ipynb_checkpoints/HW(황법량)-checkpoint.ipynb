{
 "cells": [
  {
   "cell_type": "code",
   "execution_count": 22,
   "id": "7a5b70c9-0d6f-4ec6-b348-9783e6d0e64e",
   "metadata": {},
   "outputs": [],
   "source": [
    "import pandas as pd\n",
    "import matplotlib.pyplot as plt\n",
    "\n",
    "# 데이터 불러오기\n",
    "pop = pd.read_csv('c:/Temp/state-population.csv')\n",
    "areas = pd.read_csv('c:/Temp/state-areas.csv')\n",
    "abbrevs = pd.read_csv('c:/Temp/state-abbrevs.csv')"
   ]
  },
  {
   "cell_type": "code",
   "execution_count": 24,
   "id": "92c9efb2-6691-4899-bac8-335d90a3044e",
   "metadata": {},
   "outputs": [
    {
     "data": {
      "text/html": [
       "<div>\n",
       "<style scoped>\n",
       "    .dataframe tbody tr th:only-of-type {\n",
       "        vertical-align: middle;\n",
       "    }\n",
       "\n",
       "    .dataframe tbody tr th {\n",
       "        vertical-align: top;\n",
       "    }\n",
       "\n",
       "    .dataframe thead th {\n",
       "        text-align: right;\n",
       "    }\n",
       "</style>\n",
       "<table border=\"1\" class=\"dataframe\">\n",
       "  <thead>\n",
       "    <tr style=\"text-align: right;\">\n",
       "      <th></th>\n",
       "      <th>state/region</th>\n",
       "      <th>ages</th>\n",
       "      <th>year</th>\n",
       "      <th>population</th>\n",
       "      <th>state</th>\n",
       "    </tr>\n",
       "  </thead>\n",
       "  <tbody>\n",
       "    <tr>\n",
       "      <th>0</th>\n",
       "      <td>AL</td>\n",
       "      <td>under18</td>\n",
       "      <td>2012</td>\n",
       "      <td>1117489.0</td>\n",
       "      <td>Alabama</td>\n",
       "    </tr>\n",
       "    <tr>\n",
       "      <th>1</th>\n",
       "      <td>AL</td>\n",
       "      <td>total</td>\n",
       "      <td>2012</td>\n",
       "      <td>4817528.0</td>\n",
       "      <td>Alabama</td>\n",
       "    </tr>\n",
       "    <tr>\n",
       "      <th>2</th>\n",
       "      <td>AL</td>\n",
       "      <td>under18</td>\n",
       "      <td>2010</td>\n",
       "      <td>1130966.0</td>\n",
       "      <td>Alabama</td>\n",
       "    </tr>\n",
       "    <tr>\n",
       "      <th>3</th>\n",
       "      <td>AL</td>\n",
       "      <td>total</td>\n",
       "      <td>2010</td>\n",
       "      <td>4785570.0</td>\n",
       "      <td>Alabama</td>\n",
       "    </tr>\n",
       "    <tr>\n",
       "      <th>4</th>\n",
       "      <td>AL</td>\n",
       "      <td>under18</td>\n",
       "      <td>2011</td>\n",
       "      <td>1125763.0</td>\n",
       "      <td>Alabama</td>\n",
       "    </tr>\n",
       "  </tbody>\n",
       "</table>\n",
       "</div>"
      ],
      "text/plain": [
       "  state/region     ages  year  population    state\n",
       "0           AL  under18  2012   1117489.0  Alabama\n",
       "1           AL    total  2012   4817528.0  Alabama\n",
       "2           AL  under18  2010   1130966.0  Alabama\n",
       "3           AL    total  2010   4785570.0  Alabama\n",
       "4           AL  under18  2011   1125763.0  Alabama"
      ]
     },
     "execution_count": 24,
     "metadata": {},
     "output_type": "execute_result"
    }
   ],
   "source": [
    "# abbrevs와 population 데이터 병합 (state 이름 추가)\n",
    "\n",
    "merged = pd.merge(pop, abbrevs, how='outer',\n",
    "                  left_on='state/region', right_on='abbreviation')\n",
    "merged = merged.drop('abbreviation', axis=1) # drop duplicate info\n",
    "merged.head()"
   ]
  },
  {
   "cell_type": "code",
   "execution_count": 25,
   "id": "b5d169d4-fb5d-46e5-b135-cb0ee37f8467",
   "metadata": {},
   "outputs": [
    {
     "name": "stdout",
     "output_type": "stream",
     "text": [
      "결측치 있는 행 수: 96\n"
     ]
    }
   ],
   "source": [
    "# 결측치 확인\n",
    "# state 또는 population이 누락된 행 확인\n",
    "missing_info = merged[merged['population'].isnull() | merged['state'].isnull()]\n",
    "print(\"결측치 있는 행 수:\", len(missing_info))\n"
   ]
  },
  {
   "cell_type": "code",
   "execution_count": 26,
   "id": "78107b4d-ae6c-4615-9451-f1fedd853a6d",
   "metadata": {},
   "outputs": [],
   "source": [
    "#'PR' (푸에르토리코)와 같이 state 이름이 없는 경우 수동 보정\n",
    "merged.loc[merged['state/region'] == 'PR', 'state'] = 'Puerto Rico'\n",
    "merged.loc[merged['state/region'] == 'USA', 'state'] = 'United States'"
   ]
  },
  {
   "cell_type": "code",
   "execution_count": 27,
   "id": "ce92256d-095d-4156-a82d-45d070bc96ad",
   "metadata": {},
   "outputs": [],
   "source": [
    "# 다시 결측치 제거\n",
    "merged_cleaned = merged.dropna(subset=['state', 'population'])"
   ]
  },
  {
   "cell_type": "code",
   "execution_count": 29,
   "id": "a4e33231-97f4-4cc9-8bdc-47852e1732bf",
   "metadata": {},
   "outputs": [],
   "source": [
    "# 연령 그룹 중 'total'만 필터링, 최신 연도 선택 (예: 2013년)\n",
    "df_recent = merged_cleaned[(merged_cleaned['ages'] == 'total') & (merged_cleaned['year'] == 2013)]"
   ]
  },
  {
   "cell_type": "code",
   "execution_count": 30,
   "id": "e593d67c-6440-4fdc-840f-9ced7ab06956",
   "metadata": {},
   "outputs": [],
   "source": [
    "# 면적 데이터 병합\n",
    "final = pd.merge(df_recent, areas, how='left', on='state')"
   ]
  },
  {
   "cell_type": "code",
   "execution_count": 31,
   "id": "0ab9e715-e0ce-452d-b2bb-59f99bc14fb8",
   "metadata": {},
   "outputs": [],
   "source": [
    "# 면적 데이터가 있는 행만 남기기 (없으면 인구밀도 계산 불가)\n",
    "final = final.dropna(subset=['area (sq. mi)'])"
   ]
  },
  {
   "cell_type": "code",
   "execution_count": 32,
   "id": "cfced738-adb9-4d5d-832d-4dc78774b11a",
   "metadata": {},
   "outputs": [],
   "source": [
    "# 인구 밀도 계산 (인구 수 / 면적)\n",
    "final['density'] = final['population'] / final['area (sq. mi)']"
   ]
  },
  {
   "cell_type": "code",
   "execution_count": 51,
   "id": "de55eb65-171e-4f21-87a3-2f1f6dde65b0",
   "metadata": {},
   "outputs": [],
   "source": [
    "# 정식 주 목록 추출\n",
    "valid_states_from_abbrevs = abbrevs['state'].unique()\n",
    "valid_states_from_areas = areas['state'].unique()\n",
    "valid_states = pd.Series(list(set(valid_states_from_abbrevs) & set(valid_states_from_areas)))\n",
    "\n",
    "# 미국 50개 주만 필터링\n",
    "valid_states = valid_states[valid_states != 'District of Columbia']\n",
    "final_50 = final[final['state'].isin(valid_states)]\n"
   ]
  },
  {
   "cell_type": "code",
   "execution_count": 53,
   "id": "ea64f760-a33a-4483-a566-d5d9425682e9",
   "metadata": {},
   "outputs": [
    {
     "name": "stdout",
     "output_type": "stream",
     "text": [
      "📌 인구 밀도 1위 주: New Jersey\n",
      "   인구 밀도: 1020.3323778949782\n"
     ]
    }
   ],
   "source": [
    "# 인구 밀도가 가장 높은 주\n",
    "most_dense = final_50.loc[final_50['density'].idxmax()]\n",
    "print(\"📌 인구 밀도 1위 주:\", most_dense['state'])\n",
    "print(\"   인구 밀도:\", most_dense['density'])"
   ]
  },
  {
   "cell_type": "code",
   "execution_count": 57,
   "id": "9bb85a8f-4b82-4324-9498-5ea11969e066",
   "metadata": {},
   "outputs": [
    {
     "name": "stdout",
     "output_type": "stream",
     "text": [
      "미국 주들의 평균 인구밀도: 169.0867567381967\n"
     ]
    }
   ],
   "source": [
    "# 평균 인구 밀도\n",
    "average_density = final_50['density'].mean()\n",
    "print(\"미국 주들의 평균 인구밀도:\", average_density)"
   ]
  },
  {
   "cell_type": "code",
   "execution_count": 55,
   "id": "3c011ba1-1526-4238-83bd-7092baeda289",
   "metadata": {},
   "outputs": [
    {
     "data": {
      "image/png": "[encoded data removed]",
      "text/plain": [
       "<Figure size 1000x600 with 1 Axes>"
      ]
     },
     "metadata": {},
     "output_type": "display_data"
    }
   ],
   "source": [
    "# 한글 폰트 설정 \n",
    "plt.rcParams['font.family'] = 'Malgun Gothic'\n",
    "plt.rcParams['axes.unicode_minus'] = False\n",
    "\n",
    "# 상위 10개 주만 시각화\n",
    "top10 = final_50.sort_values('density', ascending=False).head(10)\n",
    "\n",
    "plt.figure(figsize=(10, 6))\n",
    "plt.barh(top10['state'], top10['density'])\n",
    "plt.gca().invert_yaxis()\n",
    "plt.xlabel('인구 밀도 (명 / 평방마일)')\n",
    "plt.title('미국 50개 주 인구 밀도 상위 10개 주 (2013년)')\n",
    "plt.tight_layout()\n",
    "plt.show()\n",
    "\n"
   ]
  },
  {
   "cell_type": "code",
   "execution_count": null,
   "id": "b488d29f-f3bc-4a03-9d11-828e9be770a8",
   "metadata": {},
   "outputs": [],
   "source": []
  }
 ],
 "metadata": {
  "kernelspec": {
   "display_name": "Python 3 (ipykernel)",
   "language": "python",
   "name": "python3"
  },
  "language_info": {
   "codemirror_mode": {
    "name": "ipython",
    "version": 3
   },
   "file_extension": ".py",
   "mimetype": "text/x-python",
   "name": "python",
   "nbconvert_exporter": "python",
   "pygments_lexer": "ipython3",
   "version": "3.11.7"
  }
 },
 "nbformat": 4,
 "nbformat_minor": 5
}
