{
 "cells": [
  {
   "cell_type": "code",
   "execution_count": 1,
   "metadata": {},
   "outputs": [],
   "source": [
    "import numpy as np"
   ]
  },
  {
   "cell_type": "markdown",
   "metadata": {},
   "source": [
    "#### 1. (NumPy) 아래와 같이 2씩 줄어드는 5x2x2 배열을 생성하시오."
   ]
  },
  {
   "cell_type": "code",
   "execution_count": 15,
   "metadata": {},
   "outputs": [
    {
     "data": {
      "text/plain": [
       "array([[[40, 38],\n",
       "        [36, 34]],\n",
       "\n",
       "       [[32, 30],\n",
       "        [28, 26]],\n",
       "\n",
       "       [[24, 22],\n",
       "        [20, 18]],\n",
       "\n",
       "       [[16, 14],\n",
       "        [12, 10]],\n",
       "\n",
       "       [[ 8,  6],\n",
       "        [ 4,  2]]])"
      ]
     },
     "execution_count": 15,
     "metadata": {},
     "output_type": "execute_result"
    }
   ],
   "source": []
  },
  {
   "cell_type": "markdown",
   "metadata": {},
   "source": [
    "#### 2. (NumPy) 임의의 값을 갖는 5x5 배열을 생성하고, 배열의 모든 항목들에 대한 총합, 평균값, 최소값, 최대값을 각각 구하시오."
   ]
  },
  {
   "cell_type": "code",
   "execution_count": 60,
   "metadata": {},
   "outputs": [
    {
     "name": "stdout",
     "output_type": "stream",
     "text": [
      "[[0.78540999 0.00712757 0.31345432 0.1272097  0.26541709]\n",
      " [0.5541619  0.45284986 0.31483516 0.59835948 0.17968405]\n",
      " [0.90326469 0.79240206 0.36777964 0.16575437 0.12653049]\n",
      " [0.48896464 0.81920321 0.1953266  0.03397832 0.80207566]\n",
      " [0.67394054 0.99199217 0.46589635 0.92812309 0.65146352]]\n",
      "sum= 12.005204472667536 , mean= 0.4802081789067014 , min= 0.007127570392613136 , max= 0.9919921705215174\n"
     ]
    }
   ],
   "source": []
  },
  {
   "cell_type": "markdown",
   "metadata": {},
   "source": [
    "#### 3. (NumPy) 역순으로 된 5x6 배열을 생성하고, 열별로(y축) 정렬하시오. "
   ]
  },
  {
   "cell_type": "code",
   "execution_count": 40,
   "metadata": {},
   "outputs": [
    {
     "name": "stdout",
     "output_type": "stream",
     "text": [
      "[[30 29 28 27 26 25]\n",
      " [24 23 22 21 20 19]\n",
      " [18 17 16 15 14 13]\n",
      " [12 11 10  9  8  7]\n",
      " [ 6  5  4  3  2  1]]\n",
      "[[ 6  5  4  3  2  1]\n",
      " [12 11 10  9  8  7]\n",
      " [18 17 16 15 14 13]\n",
      " [24 23 22 21 20 19]\n",
      " [30 29 28 27 26 25]]\n"
     ]
    }
   ],
   "source": []
  },
  {
   "cell_type": "markdown",
   "metadata": {},
   "source": [
    "#### 4. (NumPy) 아래와 같이 5x6 배열을 생성한 후, 2열, 5열을 축으로 하여 분할하여 만들어진 세개의 배열 각각에 대한 총합을 구하시오."
   ]
  },
  {
   "cell_type": "code",
   "execution_count": 49,
   "metadata": {
    "scrolled": true
   },
   "outputs": [
    {
     "name": "stdout",
     "output_type": "stream",
     "text": [
      "[[ 1  2  3  4  5  6]\n",
      " [ 7  8  9 10 11 12]\n",
      " [13 14 15 16 17 18]\n",
      " [19 20 21 22 23 24]\n",
      " [25 26 27 28 29 30]]\n",
      "[[ 1]\n",
      " [ 7]\n",
      " [13]\n",
      " [19]\n",
      " [25]]\n",
      "sum = 65\n",
      "[[ 2  3  4]\n",
      " [ 8  9 10]\n",
      " [14 15 16]\n",
      " [20 21 22]\n",
      " [26 27 28]]\n",
      "sum = 225\n",
      "[[ 5  6]\n",
      " [11 12]\n",
      " [17 18]\n",
      " [23 24]\n",
      " [29 30]]\n",
      "sum = 175\n"
     ]
    }
   ],
   "source": []
  },
  {
   "attachments": {
    "image.png": {
     "image/png": "[encoded data removed]"
    }
   },
   "cell_type": "markdown",
   "metadata": {},
   "source": [
    "#### 5. (NumPy) 임의의 값을 갖는 5x5 배열을 생성하고, 아래 식에 따라 이를 정규화(normalize)하시오.\n",
    "\n",
    "![image.png](attachment:image.png)"
   ]
  },
  {
   "cell_type": "code",
   "execution_count": 50,
   "metadata": {},
   "outputs": [
    {
     "name": "stdout",
     "output_type": "stream",
     "text": [
      "[[0.82774816 0.93060234 0.6416668  0.28634594 0.62349712]\n",
      " [0.94434164 0.03435811 0.97801868 0.26242272 0.57559087]\n",
      " [0.42328982 0.25178152 0.69441338 0.23727624 0.76644932]\n",
      " [0.951475   0.33213533 0.04770621 0.711901   0.69181792]\n",
      " [0.9750779  0.64595037 0.0205938  0.80585652 0.55650234]]\n",
      "[[0.8430472  0.95047514 0.6486911  0.27756971 0.62971345]\n",
      " [0.96482539 0.01437639 1.         0.25258266 0.57967689]\n",
      " [0.42060326 0.24146827 0.70378323 0.22631796 0.77902249]\n",
      " [0.97227597 0.32539528 0.02831806 0.7220485  0.70107236]\n",
      " [0.99692845 0.65316516 0.         0.82018207 0.55973952]]\n"
     ]
    }
   ],
   "source": []
  },
  {
   "cell_type": "markdown",
   "metadata": {},
   "source": [
    "#### 6. 아래와 같이 1차원 배열의 10부터 20 구간의 값을 음수로 바꾸고 역순으로 변경하시오. (slicing 및 flip 명령 등 사용)"
   ]
  },
  {
   "cell_type": "code",
   "execution_count": 56,
   "metadata": {},
   "outputs": [
    {
     "name": "stdout",
     "output_type": "stream",
     "text": [
      "[  0   1   2   3   4   5   6   7   8   9 -20 -19 -18 -17 -16 -15 -14 -13\n",
      " -12 -11 -10  21  22  23  24  25  26  27  28  29]\n"
     ]
    }
   ],
   "source": []
  }
 ],
 "metadata": {
  "kernelspec": {
   "display_name": "Python 3",
   "language": "python",
   "name": "python3"
  },
  "language_info": {
   "codemirror_mode": {
    "name": "ipython",
    "version": 3
   },
   "file_extension": ".py",
   "mimetype": "text/x-python",
   "name": "python",
   "nbconvert_exporter": "python",
   "pygments_lexer": "ipython3",
   "version": "3.8.3"
  }
 },
 "nbformat": 4,
 "nbformat_minor": 1
}
