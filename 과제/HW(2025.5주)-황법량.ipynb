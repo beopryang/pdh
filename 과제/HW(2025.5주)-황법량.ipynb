{
 "cells": [
  {
   "cell_type": "code",
   "execution_count": 1,
   "metadata": {},
   "outputs": [],
   "source": [
    "import numpy as np"
   ]
  },
  {
   "cell_type": "markdown",
   "metadata": {},
   "source": [
    "#### 1. (NumPy) 아래와 같이 2씩 줄어드는 5x2x2 배열을 생성하시오."
   ]
  },
  {
   "cell_type": "code",
   "execution_count": 1,
   "metadata": {},
   "outputs": [
    {
     "name": "stdout",
     "output_type": "stream",
     "text": [
      "[[[40 38]\n",
      "  [36 34]]\n",
      "\n",
      " [[32 30]\n",
      "  [28 26]]\n",
      "\n",
      " [[24 22]\n",
      "  [20 18]]\n",
      "\n",
      " [[16 14]\n",
      "  [12 10]]\n",
      "\n",
      " [[ 8  6]\n",
      "  [ 4  2]]]\n"
     ]
    }
   ],
   "source": [
    "import numpy as np\n",
    "\n",
    "arr = np.arange(40, 0, -2)  # 40부터 2까지 2씩 감소 (총 20개)\n",
    "result = arr.reshape((5, 2, 2))  # 5x2x2 형태로 재구성\n",
    "\n",
    "print(result)"
   ]
  },
  {
   "cell_type": "markdown",
   "metadata": {},
   "source": [
    "#### 2. (NumPy) 임의의 값을 갖는 5x5 배열을 생성하고, 배열의 모든 항목들에 대한 총합, 평균값, 최소값, 최대값을 각각 구하시오."
   ]
  },
  {
   "cell_type": "code",
   "execution_count": 2,
   "metadata": {},
   "outputs": [
    {
     "name": "stdout",
     "output_type": "stream",
     "text": [
      "5x5 배열:\n",
      "[[0.17746663 0.18699101 0.31470338 0.68278192 0.45605259]\n",
      " [0.316447   0.74500526 0.28374893 0.09781289 0.6004796 ]\n",
      " [0.07977677 0.12399971 0.06075982 0.35489353 0.63539242]\n",
      " [0.17984493 0.02275185 0.18442069 0.63482926 0.18840288]\n",
      " [0.43242022 0.72264337 0.2108024  0.86185645 0.75241202]]\n",
      "\n",
      "sum = 9.306695539332024\n",
      "mean = 0.372267821573281\n",
      "min = 0.02275185019999937\n",
      "max = 0.8618564504860096\n"
     ]
    }
   ],
   "source": [
    "# np.random.rand(): 0과 1 사이의 난수 생성\n",
    "arr = np.random.rand(5, 5)\n",
    "\n",
    "# 배열 출력\n",
    "print(\"5x5 배열:\")\n",
    "print(arr)\n",
    "\n",
    "# 총합, 평균, 최소값, 최대값 계산\n",
    "arr_sum = np.sum(arr)\n",
    "arr_mean = np.mean(arr)\n",
    "arr_min = np.min(arr)\n",
    "arr_max = np.max(arr)\n",
    "\n",
    "# 결과 출력\n",
    "print(\"\\nsum =\", arr_sum)\n",
    "print(\"mean =\", arr_mean)\n",
    "print(\"min =\", arr_min)\n",
    "print(\"max =\", arr_max)"
   ]
  },
  {
   "cell_type": "markdown",
   "metadata": {},
   "source": [
    "#### 3. (NumPy) 역순으로 된 5x6 배열을 생성하고, 열별로(y축) 정렬하시오. "
   ]
  },
  {
   "cell_type": "code",
   "execution_count": 4,
   "metadata": {},
   "outputs": [
    {
     "name": "stdout",
     "output_type": "stream",
     "text": [
      "[[30 29 28 27 26 25]\n",
      " [24 23 22 21 20 19]\n",
      " [18 17 16 15 14 13]\n",
      " [12 11 10  9  8  7]\n",
      " [ 6  5  4  3  2  1]]\n",
      "[[ 6  5  4  3  2  1]\n",
      " [12 11 10  9  8  7]\n",
      " [18 17 16 15 14 13]\n",
      " [24 23 22 21 20 19]\n",
      " [30 29 28 27 26 25]]\n"
     ]
    }
   ],
   "source": [
    "# 30부터 1까지 역순으로 배열 생성\n",
    "arr = np.arange(30, 0, -1).reshape(5, 6)\n",
    "\n",
    "print(arr)\n",
    "\n",
    "# 열 기준정렬\n",
    "sorted_arr = np.sort(arr, axis=0)\n",
    "\n",
    "print(sorted_arr)"
   ]
  },
  {
   "cell_type": "markdown",
   "metadata": {},
   "source": [
    "#### 4. (NumPy) 아래와 같이 5x6 배열을 생성한 후, 2열, 5열을 축으로 하여 분할하여 만들어진 세개의 배열 각각에 대한 총합을 구하시오."
   ]
  },
  {
   "cell_type": "code",
   "execution_count": 6,
   "metadata": {},
   "outputs": [
    {
     "name": "stdout",
     "output_type": "stream",
     "text": [
      "배열 1 (1열):\n",
      "[[ 1]\n",
      " [ 7]\n",
      " [13]\n",
      " [19]\n",
      " [25]]\n",
      "sum = 65\n",
      "\n",
      "배열 2 (2~4열):\n",
      "[[ 2  3  4]\n",
      " [ 8  9 10]\n",
      " [14 15 16]\n",
      " [20 21 22]\n",
      " [26 27 28]]\n",
      "sum = 225\n",
      "\n",
      "배열 3 (5~6열):\n",
      "[[ 5  6]\n",
      " [11 12]\n",
      " [17 18]\n",
      " [23 24]\n",
      " [29 30]]\n",
      "sum = 175\n"
     ]
    }
   ],
   "source": [
    "arr = np.array([\n",
    "    [1,  2,  3,  4,  5,  6],\n",
    "    [7,  8,  9, 10, 11, 12],\n",
    "    [13, 14, 15, 16, 17, 18],\n",
    "    [19, 20, 21, 22, 23, 24],\n",
    "    [25, 26, 27, 28, 29, 30]\n",
    "])\n",
    "\n",
    "# 1) 첫 번째 열만 추출\n",
    "arr1 = arr[:, [0]]\n",
    "# 2) 두 번째 ~ 네 번째 열 추출\n",
    "arr2 = arr[:, 1:4]\n",
    "# 3) 다섯 번째 ~ 여섯 번째 열 추출\n",
    "arr3 = arr[:, 4:]\n",
    "\n",
    "# 출력\n",
    "print(\"배열 1 (1열):\")\n",
    "print(arr1)\n",
    "print(\"sum =\", np.sum(arr1))\n",
    "\n",
    "print(\"\\n배열 2 (2~4열):\")\n",
    "print(arr2)\n",
    "print(\"sum =\", np.sum(arr2))\n",
    "\n",
    "print(\"\\n배열 3 (5~6열):\")\n",
    "print(arr3)\n",
    "print(\"sum =\", np.sum(arr3))"
   ]
  },
  {
   "cell_type": "code",
   "execution_count": null,
   "metadata": {},
   "outputs": [],
   "source": []
  },
  {
   "attachments": {
    "image.png": {
     "image/png": "[encoded data removed]"
    }
   },
   "cell_type": "markdown",
   "metadata": {},
   "source": [
    "#### 5. (NumPy) 임의의 값을 갖는 5x5 배열을 생성하고, 아래 식에 따라 이를 정규화(normalize)하시오.\n",
    "\n",
    "![image.png](attachment:image.png)"
   ]
  },
  {
   "cell_type": "code",
   "execution_count": 7,
   "metadata": {},
   "outputs": [
    {
     "name": "stdout",
     "output_type": "stream",
     "text": [
      "원본 배열:\n",
      "[[0.25908929 0.39765183 0.19034377 0.99539816 0.29420387]\n",
      " [0.71704855 0.33928539 0.69332704 0.05847758 0.48676882]\n",
      " [0.41926836 0.42375679 0.3591942  0.98793281 0.27840019]\n",
      " [0.07246063 0.96393396 0.19022204 0.00880941 0.08287541]\n",
      " [0.15855959 0.57328566 0.98770419 0.48767233 0.78009783]]\n",
      "\n",
      "정규화된 배열:\n",
      "[[0.25368207 0.39412818 0.18400206 1.         0.28927399]\n",
      " [0.71786663 0.33496833 0.69382266 0.05034334 0.48445658]\n",
      " [0.41603855 0.42058799 0.35514777 0.99243317 0.27325548]\n",
      " [0.06451647 0.96810809 0.18387867 0.         0.07507282]\n",
      " [0.15178582 0.5721495  0.99220144 0.48537238 0.78177297]]\n"
     ]
    }
   ],
   "source": [
    "arr = np.random.rand(5, 5)\n",
    "\n",
    "print(\"원본 배열:\")\n",
    "print(arr)\n",
    "\n",
    "# 정규화: (X - min) / (max - min)\n",
    "arr_min = np.min(arr)\n",
    "arr_max = np.max(arr)\n",
    "arr_norm = (arr - arr_min) / (arr_max - arr_min)\n",
    "\n",
    "print(\"\\n정규화된 배열:\")\n",
    "print(arr_norm)"
   ]
  },
  {
   "cell_type": "markdown",
   "metadata": {},
   "source": [
    "#### 6. 아래와 같이 1차원 배열의 10부터 20 구간의 값을 음수로 바꾸고 역순으로 변경하시오. (slicing 및 flip 명령 등 사용)"
   ]
  },
  {
   "cell_type": "code",
   "execution_count": 10,
   "metadata": {},
   "outputs": [
    {
     "name": "stdout",
     "output_type": "stream",
     "text": [
      "1단계 - 원본 배열:\n",
      "[ 1  2  3  4  5  6  7  8  9 10 11 12 13 14 15 16 17 18 19 20 21 22 23 24\n",
      " 25 26 27 28 29]\n",
      "\n",
      "2단계 - 10번째~20번째 원소를 음수로 변환:\n",
      "[  1   2   3   4   5   6   7   8   9 -10 -11 -12 -13 -14 -15 -16 -17 -18\n",
      " -19 -20  21  22  23  24  25  26  27  28  29]\n",
      "\n",
      "3단계 - 음수 구간만 역순으로 변경:\n",
      "[  1   2   3   4   5   6   7   8   9 -20 -19 -18 -17 -16 -15 -14 -13 -12\n",
      " -11 -10  21  22  23  24  25  26  27  28  29]\n"
     ]
    }
   ],
   "source": [
    "# 1단계: 1부터 29까지의 배열 생성\n",
    "arr = np.arange(1, 30)\n",
    "print(\"1단계 - 원본 배열:\")\n",
    "print(arr)\n",
    "\n",
    "# 2단계: 10번째(index 9)부터 20번째(index 19)까지 음수로 변환\n",
    "arr[9:20] = -arr[9:20]\n",
    "print(\"\\n2단계 - 10번째~20번째 원소를 음수로 변환:\")\n",
    "print(arr)\n",
    "\n",
    "# 3단계: 해당 구간만 역순으로 바꾸기\n",
    "arr[9:20] = arr[9:20][::-1]\n",
    "print(\"\\n3단계 - 음수 구간만 역순으로 변경:\")\n",
    "print(arr)"
   ]
  }
 ],
 "metadata": {
  "kernelspec": {
   "display_name": "Python 3 (ipykernel)",
   "language": "python",
   "name": "python3"
  },
  "language_info": {
   "codemirror_mode": {
    "name": "ipython",
    "version": 3
   },
   "file_extension": ".py",
   "mimetype": "text/x-python",
   "name": "python",
   "nbconvert_exporter": "python",
   "pygments_lexer": "ipython3",
   "version": "3.11.7"
  }
 },
 "nbformat": 4,
 "nbformat_minor": 4
}
